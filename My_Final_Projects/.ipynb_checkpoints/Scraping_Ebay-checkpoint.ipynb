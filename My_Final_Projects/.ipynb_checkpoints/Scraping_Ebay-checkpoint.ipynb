{
 "cells": [
  {
   "cell_type": "code",
   "execution_count": 51,
   "id": "3439f7bf",
   "metadata": {},
   "outputs": [],
   "source": [
    "from bs4 import BeautifulSoup as bs\n",
    "import matplotlib.pyplot as plt\n",
    "\n",
    "import requests  \n",
    "import pandas as pd \n",
    "import urllib.parse\n",
    "import urllib.request\n"
   ]
  },
  {
   "cell_type": "code",
   "execution_count": null,
   "id": "a81ea397",
   "metadata": {},
   "outputs": [],
   "source": []
  },
  {
   "cell_type": "code",
   "execution_count": null,
   "id": "1ce9c12c",
   "metadata": {},
   "outputs": [],
   "source": []
  },
  {
   "cell_type": "code",
   "execution_count": 2,
   "id": "8490079d",
   "metadata": {},
   "outputs": [
    {
     "data": {
      "text/plain": [
       "200"
      ]
     },
     "execution_count": 2,
     "metadata": {},
     "output_type": "execute_result"
    }
   ],
   "source": [
    " \n",
    "#website = 'https://www.ebay.com/sch/i.html?_from=R40&_nkw=laptops++&_sacat=177&_pgn=1'\n",
    " \n",
    "#response = requests.get(website, 'html.parser') \n",
    "#response.status_code  "
   ]
  },
  {
   "cell_type": "code",
   "execution_count": 3,
   "id": "f9c8078c",
   "metadata": {},
   "outputs": [
    {
     "data": {
      "text/plain": [
       "200"
      ]
     },
     "execution_count": 3,
     "metadata": {},
     "output_type": "execute_result"
    }
   ],
   "source": [
    "#response.status_code  "
   ]
  },
  {
   "cell_type": "code",
   "execution_count": null,
   "id": "b085be08",
   "metadata": {},
   "outputs": [],
   "source": []
  },
  {
   "cell_type": "code",
   "execution_count": 1,
   "id": "866e4bfa",
   "metadata": {},
   "outputs": [],
   "source": [
    "#soup = bs(response.content, 'html.parser')\n",
    "#print(soup.prettify())"
   ]
  },
  {
   "cell_type": "code",
   "execution_count": 5,
   "id": "553e5338",
   "metadata": {},
   "outputs": [
    {
     "data": {
      "text/plain": [
       "70"
      ]
     },
     "execution_count": 5,
     "metadata": {},
     "output_type": "execute_result"
    }
   ],
   "source": [
    "data  = soup.find_all('li', {'class':'s-item--watch-at-corner'})\n",
    "len(data)"
   ]
  },
  {
   "cell_type": "code",
   "execution_count": null,
   "id": "0b9b5a5f",
   "metadata": {},
   "outputs": [],
   "source": []
  },
  {
   "cell_type": "code",
   "execution_count": null,
   "id": "29804058",
   "metadata": {},
   "outputs": [],
   "source": []
  },
  {
   "cell_type": "code",
   "execution_count": 2,
   "id": "75fa4319",
   "metadata": {},
   "outputs": [],
   "source": [
    "#print(data[1].prettify())\n",
    "#print(data[0].prettify())"
   ]
  },
  {
   "cell_type": "code",
   "execution_count": 7,
   "id": "14ad7b56",
   "metadata": {},
   "outputs": [
    {
     "data": {
      "text/plain": [
       "['$300.00',\n",
       " 'or Best Offer',\n",
       " 'Free International Shipping',\n",
       " 'from United States',\n",
       " 'Almost gone',\n",
       " '119 sold']"
      ]
     },
     "execution_count": 7,
     "metadata": {},
     "output_type": "execute_result"
    }
   ],
   "source": [
    "desc = data[0].select('div', {'class': 's-item__detail s-item__detail--primary'})\n",
    "desc_all = [des.get_text() for des in desc][9:15]\n",
    "desc_all\n"
   ]
  },
  {
   "cell_type": "code",
   "execution_count": 8,
   "id": "7c48d936",
   "metadata": {},
   "outputs": [
    {
     "data": {
      "text/plain": [
       "'https://www.ebay.com/itm/333278377870?hash=item4d98f0778e:g:Ch4AAOSwwkhgNcR~&amdata=enc%3AAQAHAAAA4N5fYXvUWoz1KEcqFPfvPRnQ9evAKH6%2ByUSvzE4SJD4Mub%2BoPiYEtYRJsNBcV7uaJPbJOPkYzSOYFpfPdRPEDqwyVfe%2F09tm44xlgTO214QxX6WES%2F1GKC7GhbHopiUf3wIS2zUmOjdEURuUJgGIwdWi3wsmCyGguOAupP9h615oB2tqHaVAf30YNnjoEzCnzihiCTCdCU3m6%2Bnn%2BGa4CicHc6s2YRnRdfGaWwCVSSBcinSatKMLirYGwS709bHfS6sF8auuRlbcFrHxbXViBKtdLIvnoHBR3TKE0hi2mjxV%7Ctkp%3ABFBMiNDuop5h'"
      ]
     },
     "execution_count": 8,
     "metadata": {},
     "output_type": "execute_result"
    }
   ],
   "source": [
    "#Link \n",
    "#print(data[1].select('a'))\n",
    "from urllib.parse import urlparse \n",
    "link1 = data[0].find('a').get('href')\n",
    "link1"
   ]
  },
  {
   "cell_type": "code",
   "execution_count": null,
   "id": "e670d52b",
   "metadata": {},
   "outputs": [],
   "source": []
  },
  {
   "cell_type": "code",
   "execution_count": null,
   "id": "ed5ec27a",
   "metadata": {},
   "outputs": [],
   "source": []
  },
  {
   "cell_type": "code",
   "execution_count": null,
   "id": "8819dd66",
   "metadata": {},
   "outputs": [],
   "source": []
  },
  {
   "cell_type": "code",
   "execution_count": 9,
   "id": "070e04e6",
   "metadata": {},
   "outputs": [
    {
     "data": {
      "text/plain": [
       "['from United States']"
      ]
     },
     "execution_count": 9,
     "metadata": {},
     "output_type": "execute_result"
    }
   ],
   "source": [
    "#Country \n",
    "desc_country = data[0].select('div', {'class': 's-item__detail s-item__detail--primary'})\n",
    "desc_all = [des.get_text() for des in desc][12]\n",
    "desc_all\n",
    "\n",
    "#Or  \n",
    "\n",
    "state = data[0].find_all('span', {'class':'s-item__location s-item__itemLocation'}) \n",
    "state2 = [st.get_text() for st in state]\n",
    "state2"
   ]
  },
  {
   "cell_type": "code",
   "execution_count": null,
   "id": "212f2db4",
   "metadata": {},
   "outputs": [],
   "source": []
  },
  {
   "cell_type": "code",
   "execution_count": null,
   "id": "6130a5a0",
   "metadata": {},
   "outputs": [],
   "source": []
  },
  {
   "cell_type": "code",
   "execution_count": 10,
   "id": "9ffe0222",
   "metadata": {},
   "outputs": [
    {
     "data": {
      "text/plain": [
       "'CHUWI GemiBook Pro 14\" Laptop Wins11 Intel N5100 PC 8+256G SSD Backlit Notebook'"
      ]
     },
     "execution_count": 10,
     "metadata": {},
     "output_type": "execute_result"
    }
   ],
   "source": [
    "data_text = data[0].select('div.s-item__title') \n",
    "data_text2 = [dat.get_text() for dat in data_text][0]\n",
    "data_text2\n"
   ]
  },
  {
   "cell_type": "code",
   "execution_count": null,
   "id": "c1c39897",
   "metadata": {},
   "outputs": [],
   "source": []
  },
  {
   "cell_type": "code",
   "execution_count": null,
   "id": "76bcfa3c",
   "metadata": {},
   "outputs": [],
   "source": []
  },
  {
   "cell_type": "code",
   "execution_count": 11,
   "id": "fb9e2ca9",
   "metadata": {},
   "outputs": [
    {
     "data": {
      "text/plain": [
       "'$300.00'"
      ]
     },
     "execution_count": 11,
     "metadata": {},
     "output_type": "execute_result"
    }
   ],
   "source": [
    "data[0].find('span', {'class':'s-item__price'}).get_text()"
   ]
  },
  {
   "cell_type": "code",
   "execution_count": 12,
   "id": "3b3fbef4",
   "metadata": {},
   "outputs": [
    {
     "data": {
      "text/plain": [
       "'Brand New'"
      ]
     },
     "execution_count": 12,
     "metadata": {},
     "output_type": "execute_result"
    }
   ],
   "source": [
    "#Review \n",
    "data[0].find('span', {'class': 'SECONDARY_INFO'}).get_text()"
   ]
  },
  {
   "cell_type": "code",
   "execution_count": 13,
   "id": "504b9a7d",
   "metadata": {},
   "outputs": [
    {
     "data": {
      "text/plain": [
       "<span class=\"s-item__detail s-item__detail--secondary\"><span class=\"s-item__etrs\"><span class=\"s-item__etrs-badge s-item__etrs-badge-seller\"><span class=\"clipped\">Top Rated Seller</span></span><svg aria-hidden=\"true\" class=\"s-item__etrs-badge-svg\" fill=\"#fff\" height=\"20\" width=\"15\"><use xlink:href=\"#svg-icon-etrs-badge\"></use></svg><span class=\"s-item__etrs-text\">Top Rated Seller</span></span></span>"
      ]
     },
     "execution_count": 13,
     "metadata": {},
     "output_type": "execute_result"
    }
   ],
   "source": [
    "#Rate  \n",
    "data[0].find('span', {'class': 's-item__detail--secondary'})"
   ]
  },
  {
   "cell_type": "code",
   "execution_count": 14,
   "id": "4ca0ad36",
   "metadata": {},
   "outputs": [
    {
     "data": {
      "text/plain": [
       "'Top Rated SellerTop Rated Seller'"
      ]
     },
     "execution_count": 14,
     "metadata": {},
     "output_type": "execute_result"
    }
   ],
   "source": [
    "#This not works in loop with class problems  lets try another way \n",
    "data[0].find('span', {'class': 's-item__detail--secondary'}).get_text().strip().replace('Top ', ' TOP ')\n",
    "\n",
    "#This one is better \n",
    "data[0].select('span')[6].get_text()\n"
   ]
  },
  {
   "cell_type": "code",
   "execution_count": null,
   "id": "c94608d6",
   "metadata": {},
   "outputs": [],
   "source": []
  },
  {
   "cell_type": "code",
   "execution_count": 15,
   "id": "2e05e245",
   "metadata": {},
   "outputs": [],
   "source": [
    "#print(soup.body.div.table.tbody.tr.tr.option.prettify())"
   ]
  },
  {
   "cell_type": "code",
   "execution_count": 16,
   "id": "f0f02546",
   "metadata": {},
   "outputs": [
    {
     "data": {
      "text/plain": [
       "'CHUWI GemiBook Pro 14\" Laptop Wins11 Intel N5100 PC 8+256G SSD Backlit NotebookOpens in a new window or tab'"
      ]
     },
     "execution_count": 16,
     "metadata": {},
     "output_type": "execute_result"
    }
   ],
   "source": [
    "#text name of a href  \n",
    "data[0].find('a', {'class': 's-item__link'}).get_text()"
   ]
  },
  {
   "cell_type": "code",
   "execution_count": null,
   "id": "75f08a19",
   "metadata": {},
   "outputs": [],
   "source": [
    " "
   ]
  },
  {
   "cell_type": "code",
   "execution_count": 17,
   "id": "06e357a1",
   "metadata": {},
   "outputs": [],
   "source": [
    "#data[0].find('span', {'class': 's-item__quantitySold'}).get_text()"
   ]
  },
  {
   "cell_type": "code",
   "execution_count": null,
   "id": "9b948b35",
   "metadata": {},
   "outputs": [],
   "source": [
    " "
   ]
  },
  {
   "cell_type": "code",
   "execution_count": 42,
   "id": "703e8348",
   "metadata": {},
   "outputs": [
    {
     "data": {
      "text/plain": [
       "['from Italy']"
      ]
     },
     "execution_count": 42,
     "metadata": {},
     "output_type": "execute_result"
    }
   ],
   "source": [
    "state = data_of_all.find_all('span', {'class':'s-item__location s-item__itemLocation'}) \n",
    "state2 = [st.get_text() for st in state]\n",
    "state2"
   ]
  },
  {
   "cell_type": "code",
   "execution_count": null,
   "id": "4aaa0781",
   "metadata": {},
   "outputs": [],
   "source": []
  },
  {
   "cell_type": "code",
   "execution_count": null,
   "id": "76fc461c",
   "metadata": {},
   "outputs": [],
   "source": [
    "data"
   ]
  },
  {
   "cell_type": "code",
   "execution_count": null,
   "id": "42cfe27b",
   "metadata": {},
   "outputs": [],
   "source": []
  },
  {
   "cell_type": "code",
   "execution_count": null,
   "id": "e78b201a",
   "metadata": {},
   "outputs": [],
   "source": []
  },
  {
   "cell_type": "code",
   "execution_count": 19,
   "id": "165861c5",
   "metadata": {},
   "outputs": [],
   "source": [
    "#lets collect everything  \n",
    "\n",
    "items_name = []\n",
    "items_price = []\n",
    "rate = []\n",
    "country = []\n",
    "quantity = []\n",
    "\n",
    "#count_list = data_of_all.select('div', {'class': 's-item__detail s-item__detail--primary'}) \n",
    "##countries = [des.get_text() for des in count_list][14]\n",
    "\n",
    " \n",
    "try:\n",
    "\n",
    "    for data_of_all in data:\n",
    "\n",
    "\n",
    "\n",
    "        items_name.append(data_of_all.find('a', {'class': 's-item__link'}).get_text())\n",
    "        items_price.append(data_of_all.find('span', {'class':'s-item__price'}).get_text())\n",
    "        rate.append(data_of_all.select('span')[6].get_text())\n",
    "        country.append(data_of_all.find('span', {'class':'s-item__location s-item__itemLocation'}).get_text())\n",
    "        quantity.append(data_of_all.find('span', {'class':'s-item__dynamic s-item__quantitySold'}))\n",
    "\n",
    "\n",
    "except: \n",
    "    items_name.append('No product')\n",
    "    items_price.append('No Price')\n",
    "    rate.append('No Rate')\n",
    "    country.append('No Country')\n",
    "    \n",
    " \n",
    " \n",
    " "
   ]
  },
  {
   "cell_type": "code",
   "execution_count": null,
   "id": "3cda5cc9",
   "metadata": {},
   "outputs": [],
   "source": [
    " "
   ]
  },
  {
   "cell_type": "code",
   "execution_count": 20,
   "id": "03994e8b",
   "metadata": {},
   "outputs": [
    {
     "data": {
      "text/plain": [
       "['119 sold',\n",
       " 'No order',\n",
       " 'No order',\n",
       " 'No order',\n",
       " 'No order',\n",
       " 'No order',\n",
       " 'No order',\n",
       " 'No order',\n",
       " 'No order',\n",
       " 'No order',\n",
       " 'No order',\n",
       " 'No order',\n",
       " '260 sold',\n",
       " '437 sold',\n",
       " 'No order',\n",
       " '423 sold',\n",
       " 'No order',\n",
       " 'No order',\n",
       " 'No order',\n",
       " 'No order',\n",
       " 'No order',\n",
       " 'No order',\n",
       " '1,685 sold',\n",
       " 'No order',\n",
       " 'No order',\n",
       " 'No order',\n",
       " 'No order',\n",
       " '382 sold',\n",
       " 'No order',\n",
       " '63 sold',\n",
       " 'No order',\n",
       " 'No order',\n",
       " 'No order',\n",
       " 'No order',\n",
       " 'No order',\n",
       " 'No order',\n",
       " '223 sold',\n",
       " 'No order',\n",
       " 'No order',\n",
       " 'No order',\n",
       " 'No order',\n",
       " 'No order',\n",
       " 'No order',\n",
       " 'No order',\n",
       " 'No order',\n",
       " 'No order',\n",
       " 'No order',\n",
       " 'No order',\n",
       " 'No order',\n",
       " 'No order',\n",
       " 'No order',\n",
       " '22 sold',\n",
       " 'No order',\n",
       " 'No order',\n",
       " 'No order',\n",
       " '36 sold',\n",
       " 'No order',\n",
       " 'No order',\n",
       " 'No order',\n",
       " 'No order',\n",
       " 'No order',\n",
       " 'No order',\n",
       " 'No order',\n",
       " 'No order',\n",
       " 'No order',\n",
       " 'No order',\n",
       " 'No order',\n",
       " '53 sold',\n",
       " 'No order',\n",
       " 'No order']"
      ]
     },
     "execution_count": 20,
     "metadata": {},
     "output_type": "execute_result"
    }
   ],
   "source": [
    "quantity = ['No order' if x is None else x.get_text() for x in quantity]\n",
    "quantity"
   ]
  },
  {
   "cell_type": "code",
   "execution_count": null,
   "id": "e818094f",
   "metadata": {},
   "outputs": [],
   "source": []
  },
  {
   "cell_type": "code",
   "execution_count": 21,
   "id": "57acc4cf",
   "metadata": {},
   "outputs": [
    {
     "data": {
      "text/plain": [
       "70"
      ]
     },
     "execution_count": 21,
     "metadata": {},
     "output_type": "execute_result"
    }
   ],
   "source": [
    "items_name\n",
    "len(items_price)"
   ]
  },
  {
   "cell_type": "code",
   "execution_count": null,
   "id": "35892954",
   "metadata": {},
   "outputs": [],
   "source": []
  },
  {
   "cell_type": "code",
   "execution_count": 22,
   "id": "8466ee33",
   "metadata": {},
   "outputs": [
    {
     "data": {
      "text/plain": [
       "70"
      ]
     },
     "execution_count": 22,
     "metadata": {},
     "output_type": "execute_result"
    }
   ],
   "source": [
    "len(data)"
   ]
  },
  {
   "cell_type": "code",
   "execution_count": 23,
   "id": "c2205e6f",
   "metadata": {},
   "outputs": [
    {
     "data": {
      "text/html": [
       "<div>\n",
       "<style scoped>\n",
       "    .dataframe tbody tr th:only-of-type {\n",
       "        vertical-align: middle;\n",
       "    }\n",
       "\n",
       "    .dataframe tbody tr th {\n",
       "        vertical-align: top;\n",
       "    }\n",
       "\n",
       "    .dataframe thead th {\n",
       "        text-align: right;\n",
       "    }\n",
       "</style>\n",
       "<table border=\"1\" class=\"dataframe\">\n",
       "  <thead>\n",
       "    <tr style=\"text-align: right;\">\n",
       "      <th></th>\n",
       "      <th>Name</th>\n",
       "      <th>Price</th>\n",
       "      <th>Rate</th>\n",
       "      <th>Country</th>\n",
       "      <th>Quantity</th>\n",
       "    </tr>\n",
       "  </thead>\n",
       "  <tbody>\n",
       "    <tr>\n",
       "      <th>0</th>\n",
       "      <td>CHUWI GemiBook Pro 14\" Laptop Wins11 Intel N51...</td>\n",
       "      <td>$300.00</td>\n",
       "      <td>Top Rated SellerTop Rated Seller</td>\n",
       "      <td>from United States</td>\n",
       "      <td>119 sold</td>\n",
       "    </tr>\n",
       "    <tr>\n",
       "      <th>1</th>\n",
       "      <td>CHUWI HeroBook Pro 14.1 in Laptop Windows 11 I...</td>\n",
       "      <td>$219.99</td>\n",
       "      <td>Take $10 off your order with coupon</td>\n",
       "      <td>from United States</td>\n",
       "      <td>No order</td>\n",
       "    </tr>\n",
       "    <tr>\n",
       "      <th>2</th>\n",
       "      <td>New ListingASUS VivoBook F512J 15.6\" Intel Cor...</td>\n",
       "      <td>$249.00</td>\n",
       "      <td>$249.00</td>\n",
       "      <td>from United States</td>\n",
       "      <td>No order</td>\n",
       "    </tr>\n",
       "    <tr>\n",
       "      <th>3</th>\n",
       "      <td>New ListingLenovo Notebook G50-70 to Hobbyists...</td>\n",
       "      <td>$1.05</td>\n",
       "      <td>0 bids ·</td>\n",
       "      <td>from Germany</td>\n",
       "      <td>No order</td>\n",
       "    </tr>\n",
       "    <tr>\n",
       "      <th>4</th>\n",
       "      <td>Dell XPS 13 9360 13.3\" 2K UHD Ultrabook - Inte...</td>\n",
       "      <td>$257.16</td>\n",
       "      <td>from Canada</td>\n",
       "      <td>from Canada</td>\n",
       "      <td>No order</td>\n",
       "    </tr>\n",
       "    <tr>\n",
       "      <th>...</th>\n",
       "      <td>...</td>\n",
       "      <td>...</td>\n",
       "      <td>...</td>\n",
       "      <td>...</td>\n",
       "      <td>...</td>\n",
       "    </tr>\n",
       "    <tr>\n",
       "      <th>65</th>\n",
       "      <td>New ListingIBM Thinkpad T40 2373 Boots Up For ...</td>\n",
       "      <td>$50.00</td>\n",
       "      <td>$50.00</td>\n",
       "      <td>from United States</td>\n",
       "      <td>No order</td>\n",
       "    </tr>\n",
       "    <tr>\n",
       "      <th>66</th>\n",
       "      <td>New Listing*AS NEW* Dell 15.6\" Laptop, Ryzen 5...</td>\n",
       "      <td>$301.93</td>\n",
       "      <td>Buy It Now</td>\n",
       "      <td>from Australia</td>\n",
       "      <td>No order</td>\n",
       "    </tr>\n",
       "    <tr>\n",
       "      <th>67</th>\n",
       "      <td>Dell Latitude 3189 Windows 11 Laptop 2-in-1 ta...</td>\n",
       "      <td>$86.64</td>\n",
       "      <td>Buy It Now</td>\n",
       "      <td>from United States</td>\n",
       "      <td>53 sold</td>\n",
       "    </tr>\n",
       "    <tr>\n",
       "      <th>68</th>\n",
       "      <td>New ListingDell Inspiron 1546 Laptop for parts...</td>\n",
       "      <td>$16.90</td>\n",
       "      <td>·</td>\n",
       "      <td>from Canada</td>\n",
       "      <td>No order</td>\n",
       "    </tr>\n",
       "    <tr>\n",
       "      <th>69</th>\n",
       "      <td>New ListingHP Pavilion 15-P008TX laptop 15.6\" ...</td>\n",
       "      <td>$174.16</td>\n",
       "      <td>Top Rated SellerTop Rated Seller</td>\n",
       "      <td>from Australia</td>\n",
       "      <td>No order</td>\n",
       "    </tr>\n",
       "  </tbody>\n",
       "</table>\n",
       "<p>70 rows × 5 columns</p>\n",
       "</div>"
      ],
      "text/plain": [
       "                                                 Name    Price  \\\n",
       "0   CHUWI GemiBook Pro 14\" Laptop Wins11 Intel N51...  $300.00   \n",
       "1   CHUWI HeroBook Pro 14.1 in Laptop Windows 11 I...  $219.99   \n",
       "2   New ListingASUS VivoBook F512J 15.6\" Intel Cor...  $249.00   \n",
       "3   New ListingLenovo Notebook G50-70 to Hobbyists...    $1.05   \n",
       "4   Dell XPS 13 9360 13.3\" 2K UHD Ultrabook - Inte...  $257.16   \n",
       "..                                                ...      ...   \n",
       "65  New ListingIBM Thinkpad T40 2373 Boots Up For ...   $50.00   \n",
       "66  New Listing*AS NEW* Dell 15.6\" Laptop, Ryzen 5...  $301.93   \n",
       "67  Dell Latitude 3189 Windows 11 Laptop 2-in-1 ta...   $86.64   \n",
       "68  New ListingDell Inspiron 1546 Laptop for parts...   $16.90   \n",
       "69  New ListingHP Pavilion 15-P008TX laptop 15.6\" ...  $174.16   \n",
       "\n",
       "                                   Rate             Country  Quantity  \n",
       "0      Top Rated SellerTop Rated Seller  from United States  119 sold  \n",
       "1   Take $10 off your order with coupon  from United States  No order  \n",
       "2                               $249.00  from United States  No order  \n",
       "3                             0 bids ·         from Germany  No order  \n",
       "4                           from Canada         from Canada  No order  \n",
       "..                                  ...                 ...       ...  \n",
       "65                               $50.00  from United States  No order  \n",
       "66                           Buy It Now      from Australia  No order  \n",
       "67                           Buy It Now  from United States   53 sold  \n",
       "68                                   ·          from Canada  No order  \n",
       "69     Top Rated SellerTop Rated Seller      from Australia  No order  \n",
       "\n",
       "[70 rows x 5 columns]"
      ]
     },
     "execution_count": 23,
     "metadata": {},
     "output_type": "execute_result"
    }
   ],
   "source": [
    "all_data = pd.DataFrame({'Name': items_name, 'Price':items_price, 'Rate': rate, 'Country':country, 'Quantity':quantity})\n",
    "all_data.head(100)"
   ]
  },
  {
   "cell_type": "code",
   "execution_count": 24,
   "id": "c60ef651",
   "metadata": {},
   "outputs": [],
   "source": [
    "##url_comb = []\n",
    "##for link in link1:\n",
    " #   url_comb.append(link1)\n",
    "#url_comb"
   ]
  },
  {
   "cell_type": "code",
   "execution_count": null,
   "id": "69fef36f",
   "metadata": {},
   "outputs": [],
   "source": []
  },
  {
   "cell_type": "code",
   "execution_count": null,
   "id": "a841036e",
   "metadata": {},
   "outputs": [],
   "source": []
  },
  {
   "cell_type": "code",
   "execution_count": 25,
   "id": "f345f63c",
   "metadata": {},
   "outputs": [],
   "source": [
    "#Lets paginate 4 pages  \n",
    " #lets collect everything  \n",
    "\n",
    "name = []\n",
    "price = []\n",
    "rate = []\n",
    "country = []\n",
    "quantity = []\n",
    "\n",
    "for i in range(1,5):\n",
    "    url = 'https://www.ebay.com/sch/i.html?_from=R40&_nkw=laptops++&_sacat=177&_pgn='\n",
    "    #print(int(i))\n",
    "    website = url + str(i)\n",
    "    \n",
    "    response = requests.get(website, 'html.parser') \n",
    "   # print(website)\n",
    "    soup = bs(response.content, 'html.parser')\n",
    "  # print(soup.prettify())\n",
    "    \n",
    "   \n",
    "    data = soup.find_all('li', {'class':'s-item--watch-at-corner'})\n",
    "    #print(len(data))\n",
    "    \n",
    "    #possible to define func\n",
    "    \n",
    "    try:\n",
    "\n",
    "        for data_of_all in data:\n",
    "\n",
    "            name.append(data_of_all.find('a', {'class': 's-item__link'}).get_text())\n",
    "            price.append(data_of_all.find('span', {'class':'s-item__price'}).get_text())\n",
    "            rate.append(data_of_all.select('span')[6].get_text())\n",
    "            country.append(data_of_all.find('span', {'class':'s-item__location s-item__itemLocation'}).get_text())\n",
    "            quantity.append(data_of_all.find('span', {'class':'s-item__dynamic s-item__quantitySold'}))\n",
    "           \n",
    "    except: \n",
    "            items_name.append('No product')\n",
    "            items_price.append('No Price')\n",
    "            rate.append('No Rate')\n",
    "            country.append('No Country')\n",
    "            \n",
    "    "
   ]
  },
  {
   "cell_type": "code",
   "execution_count": 26,
   "id": "1a479aa9",
   "metadata": {},
   "outputs": [
    {
     "data": {
      "text/plain": [
       "['119 sold',\n",
       " 'No order',\n",
       " 'No order',\n",
       " 'No order',\n",
       " 'No order',\n",
       " 'No order',\n",
       " 'No order',\n",
       " 'No order',\n",
       " 'No order',\n",
       " 'No order',\n",
       " 'No order',\n",
       " 'No order',\n",
       " '260 sold',\n",
       " '437 sold',\n",
       " 'No order',\n",
       " '423 sold',\n",
       " 'No order',\n",
       " 'No order',\n",
       " 'No order',\n",
       " 'No order',\n",
       " 'No order',\n",
       " 'No order',\n",
       " '1,685 sold',\n",
       " 'No order',\n",
       " 'No order',\n",
       " 'No order',\n",
       " 'No order',\n",
       " '382 sold',\n",
       " 'No order',\n",
       " '63 sold',\n",
       " 'No order',\n",
       " 'No order',\n",
       " 'No order',\n",
       " 'No order',\n",
       " 'No order',\n",
       " 'No order',\n",
       " '223 sold',\n",
       " 'No order',\n",
       " 'No order',\n",
       " 'No order',\n",
       " 'No order',\n",
       " 'No order',\n",
       " 'No order',\n",
       " 'No order',\n",
       " 'No order',\n",
       " 'No order',\n",
       " 'No order',\n",
       " 'No order',\n",
       " 'No order',\n",
       " 'No order',\n",
       " 'No order',\n",
       " '22 sold',\n",
       " 'No order',\n",
       " 'No order',\n",
       " 'No order',\n",
       " '36 sold',\n",
       " 'No order',\n",
       " 'No order',\n",
       " 'No order',\n",
       " 'No order',\n",
       " 'No order',\n",
       " 'No order',\n",
       " 'No order',\n",
       " 'No order',\n",
       " 'No order',\n",
       " 'No order',\n",
       " 'No order',\n",
       " 'No order',\n",
       " 'No order',\n",
       " 'No order',\n",
       " 'No order',\n",
       " 'No order',\n",
       " 'No order',\n",
       " 'No order',\n",
       " 'No order',\n",
       " 'No order',\n",
       " 'No order',\n",
       " 'No order',\n",
       " 'No order',\n",
       " 'No order',\n",
       " 'No order',\n",
       " 'No order',\n",
       " 'No order',\n",
       " 'No order',\n",
       " 'No order',\n",
       " 'No order',\n",
       " 'No order',\n",
       " 'No order',\n",
       " 'No order',\n",
       " 'No order',\n",
       " 'No order',\n",
       " 'No order',\n",
       " 'No order',\n",
       " 'No order',\n",
       " 'No order',\n",
       " 'No order',\n",
       " 'No order',\n",
       " 'No order',\n",
       " 'No order',\n",
       " 'No order',\n",
       " '142 sold',\n",
       " '55 sold',\n",
       " 'No order',\n",
       " 'No order',\n",
       " 'No order',\n",
       " 'No order',\n",
       " 'No order',\n",
       " 'No order',\n",
       " 'No order',\n",
       " 'No order',\n",
       " 'No order',\n",
       " 'No order',\n",
       " 'No order',\n",
       " 'No order',\n",
       " 'No order',\n",
       " 'No order',\n",
       " 'No order',\n",
       " 'No order',\n",
       " 'No order',\n",
       " 'No order',\n",
       " 'No order',\n",
       " 'No order',\n",
       " 'No order',\n",
       " 'No order',\n",
       " 'No order',\n",
       " 'No order',\n",
       " 'No order',\n",
       " 'No order',\n",
       " 'No order',\n",
       " 'No order',\n",
       " 'No order',\n",
       " 'No order',\n",
       " 'No order',\n",
       " 'No order',\n",
       " 'No order',\n",
       " 'No order',\n",
       " 'No order',\n",
       " 'No order',\n",
       " 'No order',\n",
       " 'No order',\n",
       " 'No order',\n",
       " 'No order',\n",
       " 'No order',\n",
       " 'No order',\n",
       " 'No order',\n",
       " 'No order',\n",
       " 'No order',\n",
       " 'No order',\n",
       " 'No order',\n",
       " 'No order',\n",
       " 'No order',\n",
       " 'No order',\n",
       " 'No order',\n",
       " 'No order',\n",
       " 'No order',\n",
       " 'No order',\n",
       " 'No order',\n",
       " 'No order',\n",
       " 'No order',\n",
       " 'No order',\n",
       " 'No order',\n",
       " 'No order',\n",
       " 'No order',\n",
       " 'No order',\n",
       " 'No order',\n",
       " 'No order',\n",
       " 'No order',\n",
       " 'No order',\n",
       " 'No order',\n",
       " 'No order',\n",
       " 'No order',\n",
       " 'No order',\n",
       " 'No order',\n",
       " 'No order',\n",
       " 'No order',\n",
       " 'No order',\n",
       " 'No order',\n",
       " 'No order',\n",
       " 'No order',\n",
       " 'No order',\n",
       " 'No order',\n",
       " 'No order',\n",
       " 'No order',\n",
       " 'No order',\n",
       " 'No order',\n",
       " '31 sold',\n",
       " 'No order',\n",
       " 'No order',\n",
       " 'No order',\n",
       " 'No order',\n",
       " 'No order',\n",
       " 'No order',\n",
       " 'No order',\n",
       " 'No order',\n",
       " 'No order',\n",
       " 'No order',\n",
       " 'No order',\n",
       " 'No order',\n",
       " '8 sold',\n",
       " 'No order',\n",
       " 'No order',\n",
       " 'No order',\n",
       " 'No order',\n",
       " 'No order',\n",
       " 'No order',\n",
       " 'No order',\n",
       " 'No order',\n",
       " 'No order',\n",
       " 'No order',\n",
       " 'No order',\n",
       " 'No order',\n",
       " 'No order']"
      ]
     },
     "execution_count": 26,
     "metadata": {},
     "output_type": "execute_result"
    }
   ],
   "source": [
    "quantity2 = ['No order' if x is None else x.get_text() for x in quantity]\n",
    "quantity2"
   ]
  },
  {
   "cell_type": "code",
   "execution_count": 27,
   "id": "a7add264",
   "metadata": {},
   "outputs": [],
   "source": [
    "all4_data = pd.DataFrame({'Name': name, 'Price':price, 'Rate': rate, 'Country':country, 'Quantity':quantity2})\n",
    "\n",
    "\n",
    "#all4_data.to_csv('a.csv')\n"
   ]
  },
  {
   "cell_type": "code",
   "execution_count": 28,
   "id": "dc8b58ba",
   "metadata": {},
   "outputs": [],
   "source": [
    "import re \n",
    "all4_data.head(100)\n",
    "\n",
    "\n",
    "#dealing with dollar\n",
    "#)  #No use \n",
    "#trends['Price'].value_counts()\n",
    "#trends[trends['Price'].str.contains(\",\") == True] \n",
    "\n",
    "all4_data['Price'] = all4_data['Price'].replace('[^\\d.]', '', regex = True).astype(float)\n"
   ]
  },
  {
   "cell_type": "code",
   "execution_count": 29,
   "id": "46ec310e",
   "metadata": {},
   "outputs": [],
   "source": [
    " \n",
    "all4_data['Name'] = all4_data['Name'].apply(lambda x: x[:30]+ str('..'))"
   ]
  },
  {
   "cell_type": "code",
   "execution_count": null,
   "id": "13ee562a",
   "metadata": {},
   "outputs": [],
   "source": []
  },
  {
   "cell_type": "code",
   "execution_count": 30,
   "id": "c34c1d29",
   "metadata": {},
   "outputs": [
    {
     "data": {
      "text/html": [
       "<div>\n",
       "<style scoped>\n",
       "    .dataframe tbody tr th:only-of-type {\n",
       "        vertical-align: middle;\n",
       "    }\n",
       "\n",
       "    .dataframe tbody tr th {\n",
       "        vertical-align: top;\n",
       "    }\n",
       "\n",
       "    .dataframe thead th {\n",
       "        text-align: right;\n",
       "    }\n",
       "</style>\n",
       "<table border=\"1\" class=\"dataframe\">\n",
       "  <thead>\n",
       "    <tr style=\"text-align: right;\">\n",
       "      <th></th>\n",
       "      <th>Name</th>\n",
       "      <th>Price</th>\n",
       "      <th>Rate</th>\n",
       "      <th>Country</th>\n",
       "      <th>Quantity</th>\n",
       "    </tr>\n",
       "  </thead>\n",
       "  <tbody>\n",
       "    <tr>\n",
       "      <th>179</th>\n",
       "      <td>New ListingLenovo ThinkPad x1 ..</td>\n",
       "      <td>4772.06</td>\n",
       "      <td>Free International Shipping</td>\n",
       "      <td>from Italy</td>\n",
       "      <td>No order</td>\n",
       "    </tr>\n",
       "    <tr>\n",
       "      <th>200</th>\n",
       "      <td>Razer Blade 17 i9-12900H Noteb..</td>\n",
       "      <td>4699.75</td>\n",
       "      <td>+$57.16 shipping</td>\n",
       "      <td>from Australia</td>\n",
       "      <td>No order</td>\n",
       "    </tr>\n",
       "    <tr>\n",
       "      <th>169</th>\n",
       "      <td>New ListingFujitsu CELSIUS H75..</td>\n",
       "      <td>4629.73</td>\n",
       "      <td>Free International Shipping</td>\n",
       "      <td>from Italy</td>\n",
       "      <td>No order</td>\n",
       "    </tr>\n",
       "    <tr>\n",
       "      <th>203</th>\n",
       "      <td>MSI GS75 Stealth-1074 17.3 144..</td>\n",
       "      <td>3658.34</td>\n",
       "      <td>+$60.96 shipping</td>\n",
       "      <td>from United Kingdom</td>\n",
       "      <td>No order</td>\n",
       "    </tr>\n",
       "    <tr>\n",
       "      <th>164</th>\n",
       "      <td>New ListingApple MacBook Air M..</td>\n",
       "      <td>3491.57</td>\n",
       "      <td>Free International Shipping</td>\n",
       "      <td>from Italy</td>\n",
       "      <td>No order</td>\n",
       "    </tr>\n",
       "    <tr>\n",
       "      <th>...</th>\n",
       "      <td>...</td>\n",
       "      <td>...</td>\n",
       "      <td>...</td>\n",
       "      <td>...</td>\n",
       "      <td>...</td>\n",
       "    </tr>\n",
       "    <tr>\n",
       "      <th>120</th>\n",
       "      <td>ASUS a56 k56 v550 s550 s56 WiF..</td>\n",
       "      <td>10.18</td>\n",
       "      <td>from Italy</td>\n",
       "      <td>from Italy</td>\n",
       "      <td>No order</td>\n",
       "    </tr>\n",
       "    <tr>\n",
       "      <th>51</th>\n",
       "      <td>Windows7 Ultimate install Disk..</td>\n",
       "      <td>8.52</td>\n",
       "      <td>from United Kingdom</td>\n",
       "      <td>from United Kingdom</td>\n",
       "      <td>22 sold</td>\n",
       "    </tr>\n",
       "    <tr>\n",
       "      <th>8</th>\n",
       "      <td>New ListingASUS UL50V 17-Inch ..</td>\n",
       "      <td>1.05</td>\n",
       "      <td>1 bid ·</td>\n",
       "      <td>from Germany</td>\n",
       "      <td>No order</td>\n",
       "    </tr>\n",
       "    <tr>\n",
       "      <th>16</th>\n",
       "      <td>New ListingLenovo E31 Notebook..</td>\n",
       "      <td>1.05</td>\n",
       "      <td>0 bids ·</td>\n",
       "      <td>from Germany</td>\n",
       "      <td>No order</td>\n",
       "    </tr>\n",
       "    <tr>\n",
       "      <th>3</th>\n",
       "      <td>New ListingLenovo Notebook G50..</td>\n",
       "      <td>1.05</td>\n",
       "      <td>0 bids ·</td>\n",
       "      <td>from Germany</td>\n",
       "      <td>No order</td>\n",
       "    </tr>\n",
       "  </tbody>\n",
       "</table>\n",
       "<p>212 rows × 5 columns</p>\n",
       "</div>"
      ],
      "text/plain": [
       "                                 Name    Price                         Rate  \\\n",
       "179  New ListingLenovo ThinkPad x1 ..  4772.06  Free International Shipping   \n",
       "200  Razer Blade 17 i9-12900H Noteb..  4699.75             +$57.16 shipping   \n",
       "169  New ListingFujitsu CELSIUS H75..  4629.73  Free International Shipping   \n",
       "203  MSI GS75 Stealth-1074 17.3 144..  3658.34             +$60.96 shipping   \n",
       "164  New ListingApple MacBook Air M..  3491.57  Free International Shipping   \n",
       "..                                ...      ...                          ...   \n",
       "120  ASUS a56 k56 v550 s550 s56 WiF..    10.18                   from Italy   \n",
       "51   Windows7 Ultimate install Disk..     8.52          from United Kingdom   \n",
       "8    New ListingASUS UL50V 17-Inch ..     1.05                     1 bid ·    \n",
       "16   New ListingLenovo E31 Notebook..     1.05                    0 bids ·    \n",
       "3    New ListingLenovo Notebook G50..     1.05                    0 bids ·    \n",
       "\n",
       "                 Country  Quantity  \n",
       "179           from Italy  No order  \n",
       "200       from Australia  No order  \n",
       "169           from Italy  No order  \n",
       "203  from United Kingdom  No order  \n",
       "164           from Italy  No order  \n",
       "..                   ...       ...  \n",
       "120           from Italy  No order  \n",
       "51   from United Kingdom   22 sold  \n",
       "8           from Germany  No order  \n",
       "16          from Germany  No order  \n",
       "3           from Germany  No order  \n",
       "\n",
       "[212 rows x 5 columns]"
      ]
     },
     "execution_count": 30,
     "metadata": {},
     "output_type": "execute_result"
    }
   ],
   "source": [
    " \n",
    "df4 = all4_data.sort_values(by=['Price'],ascending=False)\n",
    "df4"
   ]
  },
  {
   "cell_type": "code",
   "execution_count": null,
   "id": "bde58ecc",
   "metadata": {},
   "outputs": [],
   "source": []
  },
  {
   "cell_type": "code",
   "execution_count": null,
   "id": "8d172ab1",
   "metadata": {},
   "outputs": [],
   "source": []
  },
  {
   "cell_type": "code",
   "execution_count": 31,
   "id": "03329ffb",
   "metadata": {},
   "outputs": [
    {
     "data": {
      "text/plain": [
       "Name         object\n",
       "Price       float64\n",
       "Rate         object\n",
       "Country      object\n",
       "Quantity     object\n",
       "dtype: object"
      ]
     },
     "execution_count": 31,
     "metadata": {},
     "output_type": "execute_result"
    }
   ],
   "source": [
    "#Let's visualise some of them\n",
    "df4.dtypes"
   ]
  },
  {
   "cell_type": "code",
   "execution_count": 32,
   "id": "15255b4d",
   "metadata": {},
   "outputs": [
    {
     "data": {
      "text/plain": [
       "Free International Shipping            36\n",
       "Top Rated SellerTop Rated Seller       35\n",
       "Top Rated Seller                       17\n",
       "Buy It Now                             13\n",
       "0 bids ·                               12\n",
       "                                       ..\n",
       "$220.00                                 1\n",
       "Take $10 off your order with coupon     1\n",
       "+$16.86 shipping                        1\n",
       "+$50.41 shipping                        1\n",
       "from United Kingdom                     1\n",
       "Name: Rate, Length: 65, dtype: int64"
      ]
     },
     "execution_count": 32,
     "metadata": {},
     "output_type": "execute_result"
    }
   ],
   "source": [
    "df4['Rate'].value_counts()"
   ]
  },
  {
   "cell_type": "code",
   "execution_count": null,
   "id": "6b48f671",
   "metadata": {},
   "outputs": [],
   "source": [
    " "
   ]
  },
  {
   "cell_type": "code",
   "execution_count": null,
   "id": "6da61479",
   "metadata": {},
   "outputs": [],
   "source": []
  },
  {
   "cell_type": "code",
   "execution_count": 33,
   "id": "c3f33a29",
   "metadata": {},
   "outputs": [
    {
     "data": {
      "text/plain": [
       "Free International Shipping            36\n",
       "Top Rated SellerTop Rated Seller       35\n",
       "Top Rated Seller                       17\n",
       "Buy It Now                             13\n",
       "0 bids ·                               12\n",
       "                                       ..\n",
       "$220.00                                 1\n",
       "Take $10 off your order with coupon     1\n",
       "+$16.86 shipping                        1\n",
       "+$50.41 shipping                        1\n",
       "from United Kingdom                     1\n",
       "Name: Rate, Length: 65, dtype: int64"
      ]
     },
     "execution_count": 33,
     "metadata": {},
     "output_type": "execute_result"
    }
   ],
   "source": [
    "df4['Rate'].value_counts()"
   ]
  },
  {
   "cell_type": "code",
   "execution_count": 34,
   "id": "7ec1259e",
   "metadata": {},
   "outputs": [],
   "source": [
    "df4['Rate'] = df4['Rate'].replace('Top Rated SellerTop Rated Seller','Top Rated Seller')\n"
   ]
  },
  {
   "cell_type": "code",
   "execution_count": null,
   "id": "13efa730",
   "metadata": {},
   "outputs": [],
   "source": []
  },
  {
   "cell_type": "code",
   "execution_count": 35,
   "id": "9b49114d",
   "metadata": {},
   "outputs": [
    {
     "data": {
      "text/html": [
       "<div>\n",
       "<style scoped>\n",
       "    .dataframe tbody tr th:only-of-type {\n",
       "        vertical-align: middle;\n",
       "    }\n",
       "\n",
       "    .dataframe tbody tr th {\n",
       "        vertical-align: top;\n",
       "    }\n",
       "\n",
       "    .dataframe thead th {\n",
       "        text-align: right;\n",
       "    }\n",
       "</style>\n",
       "<table border=\"1\" class=\"dataframe\">\n",
       "  <thead>\n",
       "    <tr style=\"text-align: right;\">\n",
       "      <th></th>\n",
       "      <th>Name</th>\n",
       "      <th>Price</th>\n",
       "      <th>Rate</th>\n",
       "      <th>Country</th>\n",
       "      <th>Quantity</th>\n",
       "    </tr>\n",
       "  </thead>\n",
       "  <tbody>\n",
       "  </tbody>\n",
       "</table>\n",
       "</div>"
      ],
      "text/plain": [
       "Empty DataFrame\n",
       "Columns: [Name, Price, Rate, Country, Quantity]\n",
       "Index: []"
      ]
     },
     "execution_count": 35,
     "metadata": {},
     "output_type": "execute_result"
    }
   ],
   "source": [
    "df4[df4['Rate'] == 'Top Rated SellerTop Rated Seller']"
   ]
  },
  {
   "cell_type": "code",
   "execution_count": null,
   "id": "789e086a",
   "metadata": {},
   "outputs": [],
   "source": [
    " "
   ]
  },
  {
   "cell_type": "code",
   "execution_count": null,
   "id": "456db009",
   "metadata": {},
   "outputs": [],
   "source": []
  },
  {
   "cell_type": "code",
   "execution_count": 36,
   "id": "0ffea3db",
   "metadata": {},
   "outputs": [
    {
     "data": {
      "text/plain": [
       "Top Rated Seller                       52\n",
       "Free International Shipping            36\n",
       "Buy It Now                             13\n",
       "0 bids ·                               12\n",
       " ·                                     10\n",
       "                                       ..\n",
       "+$57.16 shipping                        1\n",
       "Take $10 off your order with coupon     1\n",
       "+$16.86 shipping                        1\n",
       "+$50.41 shipping                        1\n",
       "from United Kingdom                     1\n",
       "Name: Rate, Length: 64, dtype: int64"
      ]
     },
     "execution_count": 36,
     "metadata": {},
     "output_type": "execute_result"
    }
   ],
   "source": [
    "df4['Rate'].value_counts()\n",
    "#pd.set_option(\"display.max_rows\", None)\n",
    "#df4['Rate'].value_counts() "
   ]
  },
  {
   "cell_type": "code",
   "execution_count": 110,
   "id": "a10fc1d3",
   "metadata": {},
   "outputs": [
    {
     "data": {
      "text/html": [
       "<div>\n",
       "<style scoped>\n",
       "    .dataframe tbody tr th:only-of-type {\n",
       "        vertical-align: middle;\n",
       "    }\n",
       "\n",
       "    .dataframe tbody tr th {\n",
       "        vertical-align: top;\n",
       "    }\n",
       "\n",
       "    .dataframe thead th {\n",
       "        text-align: right;\n",
       "    }\n",
       "</style>\n",
       "<table border=\"1\" class=\"dataframe\">\n",
       "  <thead>\n",
       "    <tr style=\"text-align: right;\">\n",
       "      <th></th>\n",
       "      <th>Name</th>\n",
       "      <th>Price</th>\n",
       "      <th>Rate</th>\n",
       "      <th>Country</th>\n",
       "      <th>Quantity</th>\n",
       "    </tr>\n",
       "  </thead>\n",
       "  <tbody>\n",
       "    <tr>\n",
       "      <th>179</th>\n",
       "      <td>New ListingLenovo ThinkPad x1 ..</td>\n",
       "      <td>4772.06</td>\n",
       "      <td>Free International Shipping</td>\n",
       "      <td>from Italy</td>\n",
       "      <td>No order</td>\n",
       "    </tr>\n",
       "    <tr>\n",
       "      <th>200</th>\n",
       "      <td>Razer Blade 17 i9-12900H Noteb..</td>\n",
       "      <td>4699.75</td>\n",
       "      <td>+$57.16 shipping</td>\n",
       "      <td>from Australia</td>\n",
       "      <td>No order</td>\n",
       "    </tr>\n",
       "    <tr>\n",
       "      <th>169</th>\n",
       "      <td>New ListingFujitsu CELSIUS H75..</td>\n",
       "      <td>4629.73</td>\n",
       "      <td>Free International Shipping</td>\n",
       "      <td>from Italy</td>\n",
       "      <td>No order</td>\n",
       "    </tr>\n",
       "    <tr>\n",
       "      <th>203</th>\n",
       "      <td>MSI GS75 Stealth-1074 17.3 144..</td>\n",
       "      <td>3658.34</td>\n",
       "      <td>+$60.96 shipping</td>\n",
       "      <td>from United Kingdom</td>\n",
       "      <td>No order</td>\n",
       "    </tr>\n",
       "    <tr>\n",
       "      <th>164</th>\n",
       "      <td>New ListingApple MacBook Air M..</td>\n",
       "      <td>3491.57</td>\n",
       "      <td>Free International Shipping</td>\n",
       "      <td>from Italy</td>\n",
       "      <td>No order</td>\n",
       "    </tr>\n",
       "    <tr>\n",
       "      <th>207</th>\n",
       "      <td>Notebook Rugged 14\" Core i7 16..</td>\n",
       "      <td>3341.46</td>\n",
       "      <td>Top Rated Seller</td>\n",
       "      <td>from Italy</td>\n",
       "      <td>No order</td>\n",
       "    </tr>\n",
       "    <tr>\n",
       "      <th>178</th>\n",
       "      <td>New ListingLenovo ThinkPad x1 ..</td>\n",
       "      <td>3275.31</td>\n",
       "      <td>Free International Shipping</td>\n",
       "      <td>from Italy</td>\n",
       "      <td>No order</td>\n",
       "    </tr>\n",
       "    <tr>\n",
       "      <th>170</th>\n",
       "      <td>New ListingLenovo ThinkPad P14..</td>\n",
       "      <td>3249.99</td>\n",
       "      <td>Free International Shipping</td>\n",
       "      <td>from Italy</td>\n",
       "      <td>No order</td>\n",
       "    </tr>\n",
       "    <tr>\n",
       "      <th>140</th>\n",
       "      <td>Notebook Rugged 14 \" Core i7 1..</td>\n",
       "      <td>3238.40</td>\n",
       "      <td>Top Rated Seller</td>\n",
       "      <td>from Italy</td>\n",
       "      <td>No order</td>\n",
       "    </tr>\n",
       "    <tr>\n",
       "      <th>158</th>\n",
       "      <td>Notebook Rugged 14 \" Core i7 1..</td>\n",
       "      <td>3238.40</td>\n",
       "      <td>Top Rated Seller</td>\n",
       "      <td>from Italy</td>\n",
       "      <td>No order</td>\n",
       "    </tr>\n",
       "    <tr>\n",
       "      <th>194</th>\n",
       "      <td>Notebook Rugged 14 \" Core i7 8..</td>\n",
       "      <td>3088.30</td>\n",
       "      <td>Top Rated Seller</td>\n",
       "      <td>from Italy</td>\n",
       "      <td>No order</td>\n",
       "    </tr>\n",
       "    <tr>\n",
       "      <th>165</th>\n",
       "      <td>New ListingApple MacBook Air M..</td>\n",
       "      <td>3013.56</td>\n",
       "      <td>Free International Shipping</td>\n",
       "      <td>from Italy</td>\n",
       "      <td>No order</td>\n",
       "    </tr>\n",
       "    <tr>\n",
       "      <th>161</th>\n",
       "      <td>New ListingApple MacBook Air M..</td>\n",
       "      <td>3013.56</td>\n",
       "      <td>Free International Shipping</td>\n",
       "      <td>from Italy</td>\n",
       "      <td>No order</td>\n",
       "    </tr>\n",
       "    <tr>\n",
       "      <th>162</th>\n",
       "      <td>New ListingApple MacBook Air M..</td>\n",
       "      <td>3013.56</td>\n",
       "      <td>Free International Shipping</td>\n",
       "      <td>from Italy</td>\n",
       "      <td>No order</td>\n",
       "    </tr>\n",
       "    <tr>\n",
       "      <th>182</th>\n",
       "      <td>Notebook Rugged 14\" Core i7 8G..</td>\n",
       "      <td>2944.91</td>\n",
       "      <td>Top Rated Seller</td>\n",
       "      <td>from Italy</td>\n",
       "      <td>No order</td>\n",
       "    </tr>\n",
       "    <tr>\n",
       "      <th>148</th>\n",
       "      <td>New ListingApple MacBook Air m..</td>\n",
       "      <td>2791.94</td>\n",
       "      <td>Free International Shipping</td>\n",
       "      <td>from Italy</td>\n",
       "      <td>No order</td>\n",
       "    </tr>\n",
       "    <tr>\n",
       "      <th>141</th>\n",
       "      <td>New ListingApple MacBook Air m..</td>\n",
       "      <td>2791.94</td>\n",
       "      <td>Free International Shipping</td>\n",
       "      <td>from Italy</td>\n",
       "      <td>No order</td>\n",
       "    </tr>\n",
       "    <tr>\n",
       "      <th>210</th>\n",
       "      <td>Notebook Rugged 13 \" Touch Cor..</td>\n",
       "      <td>2772.93</td>\n",
       "      <td>Top Rated Seller</td>\n",
       "      <td>from Italy</td>\n",
       "      <td>No order</td>\n",
       "    </tr>\n",
       "    <tr>\n",
       "      <th>166</th>\n",
       "      <td>New ListingApple MacBook Air M..</td>\n",
       "      <td>2745.30</td>\n",
       "      <td>Free International Shipping</td>\n",
       "      <td>from Italy</td>\n",
       "      <td>No order</td>\n",
       "    </tr>\n",
       "    <tr>\n",
       "      <th>160</th>\n",
       "      <td>New ListingApple MacBook Air M..</td>\n",
       "      <td>2628.61</td>\n",
       "      <td>Free International Shipping</td>\n",
       "      <td>from Italy</td>\n",
       "      <td>No order</td>\n",
       "    </tr>\n",
       "  </tbody>\n",
       "</table>\n",
       "</div>"
      ],
      "text/plain": [
       "                                 Name    Price                         Rate  \\\n",
       "179  New ListingLenovo ThinkPad x1 ..  4772.06  Free International Shipping   \n",
       "200  Razer Blade 17 i9-12900H Noteb..  4699.75             +$57.16 shipping   \n",
       "169  New ListingFujitsu CELSIUS H75..  4629.73  Free International Shipping   \n",
       "203  MSI GS75 Stealth-1074 17.3 144..  3658.34             +$60.96 shipping   \n",
       "164  New ListingApple MacBook Air M..  3491.57  Free International Shipping   \n",
       "207  Notebook Rugged 14\" Core i7 16..  3341.46             Top Rated Seller   \n",
       "178  New ListingLenovo ThinkPad x1 ..  3275.31  Free International Shipping   \n",
       "170  New ListingLenovo ThinkPad P14..  3249.99  Free International Shipping   \n",
       "140  Notebook Rugged 14 \" Core i7 1..  3238.40             Top Rated Seller   \n",
       "158  Notebook Rugged 14 \" Core i7 1..  3238.40             Top Rated Seller   \n",
       "194  Notebook Rugged 14 \" Core i7 8..  3088.30             Top Rated Seller   \n",
       "165  New ListingApple MacBook Air M..  3013.56  Free International Shipping   \n",
       "161  New ListingApple MacBook Air M..  3013.56  Free International Shipping   \n",
       "162  New ListingApple MacBook Air M..  3013.56  Free International Shipping   \n",
       "182  Notebook Rugged 14\" Core i7 8G..  2944.91             Top Rated Seller   \n",
       "148  New ListingApple MacBook Air m..  2791.94  Free International Shipping   \n",
       "141  New ListingApple MacBook Air m..  2791.94  Free International Shipping   \n",
       "210  Notebook Rugged 13 \" Touch Cor..  2772.93             Top Rated Seller   \n",
       "166  New ListingApple MacBook Air M..  2745.30  Free International Shipping   \n",
       "160  New ListingApple MacBook Air M..  2628.61  Free International Shipping   \n",
       "\n",
       "                 Country  Quantity  \n",
       "179           from Italy  No order  \n",
       "200       from Australia  No order  \n",
       "169           from Italy  No order  \n",
       "203  from United Kingdom  No order  \n",
       "164           from Italy  No order  \n",
       "207           from Italy  No order  \n",
       "178           from Italy  No order  \n",
       "170           from Italy  No order  \n",
       "140           from Italy  No order  \n",
       "158           from Italy  No order  \n",
       "194           from Italy  No order  \n",
       "165           from Italy  No order  \n",
       "161           from Italy  No order  \n",
       "162           from Italy  No order  \n",
       "182           from Italy  No order  \n",
       "148           from Italy  No order  \n",
       "141           from Italy  No order  \n",
       "210           from Italy  No order  \n",
       "166           from Italy  No order  \n",
       "160           from Italy  No order  "
      ]
     },
     "execution_count": 110,
     "metadata": {},
     "output_type": "execute_result"
    }
   ],
   "source": [
    "df4.head(20)"
   ]
  },
  {
   "cell_type": "code",
   "execution_count": null,
   "id": "0278f5a7",
   "metadata": {},
   "outputs": [],
   "source": []
  },
  {
   "cell_type": "code",
   "execution_count": 111,
   "id": "05c243d8",
   "metadata": {},
   "outputs": [
    {
     "data": {
      "text/html": [
       "<div>\n",
       "<style scoped>\n",
       "    .dataframe tbody tr th:only-of-type {\n",
       "        vertical-align: middle;\n",
       "    }\n",
       "\n",
       "    .dataframe tbody tr th {\n",
       "        vertical-align: top;\n",
       "    }\n",
       "\n",
       "    .dataframe thead th {\n",
       "        text-align: right;\n",
       "    }\n",
       "</style>\n",
       "<table border=\"1\" class=\"dataframe\">\n",
       "  <thead>\n",
       "    <tr style=\"text-align: right;\">\n",
       "      <th></th>\n",
       "      <th>Name</th>\n",
       "      <th>Price</th>\n",
       "    </tr>\n",
       "  </thead>\n",
       "  <tbody>\n",
       "    <tr>\n",
       "      <th>179</th>\n",
       "      <td>New ListingLenovo ThinkPad x1 ..</td>\n",
       "      <td>4772.06</td>\n",
       "    </tr>\n",
       "    <tr>\n",
       "      <th>200</th>\n",
       "      <td>Razer Blade 17 i9-12900H Noteb..</td>\n",
       "      <td>4699.75</td>\n",
       "    </tr>\n",
       "    <tr>\n",
       "      <th>169</th>\n",
       "      <td>New ListingFujitsu CELSIUS H75..</td>\n",
       "      <td>4629.73</td>\n",
       "    </tr>\n",
       "    <tr>\n",
       "      <th>203</th>\n",
       "      <td>MSI GS75 Stealth-1074 17.3 144..</td>\n",
       "      <td>3658.34</td>\n",
       "    </tr>\n",
       "    <tr>\n",
       "      <th>164</th>\n",
       "      <td>New ListingApple MacBook Air M..</td>\n",
       "      <td>3491.57</td>\n",
       "    </tr>\n",
       "    <tr>\n",
       "      <th>207</th>\n",
       "      <td>Notebook Rugged 14\" Core i7 16..</td>\n",
       "      <td>3341.46</td>\n",
       "    </tr>\n",
       "    <tr>\n",
       "      <th>178</th>\n",
       "      <td>New ListingLenovo ThinkPad x1 ..</td>\n",
       "      <td>3275.31</td>\n",
       "    </tr>\n",
       "  </tbody>\n",
       "</table>\n",
       "</div>"
      ],
      "text/plain": [
       "                                 Name    Price\n",
       "179  New ListingLenovo ThinkPad x1 ..  4772.06\n",
       "200  Razer Blade 17 i9-12900H Noteb..  4699.75\n",
       "169  New ListingFujitsu CELSIUS H75..  4629.73\n",
       "203  MSI GS75 Stealth-1074 17.3 144..  3658.34\n",
       "164  New ListingApple MacBook Air M..  3491.57\n",
       "207  Notebook Rugged 14\" Core i7 16..  3341.46\n",
       "178  New ListingLenovo ThinkPad x1 ..  3275.31"
      ]
     },
     "execution_count": 111,
     "metadata": {},
     "output_type": "execute_result"
    }
   ],
   "source": [
    "top_prices = df4[['Name','Price']].sort_values(by=['Price'], ascending=False)\n",
    "top_prices.head(7)"
   ]
  },
  {
   "cell_type": "code",
   "execution_count": null,
   "id": "78284527",
   "metadata": {},
   "outputs": [],
   "source": []
  },
  {
   "cell_type": "code",
   "execution_count": null,
   "id": "c83981d8",
   "metadata": {},
   "outputs": [],
   "source": []
  },
  {
   "cell_type": "code",
   "execution_count": 284,
   "id": "0e28af37",
   "metadata": {},
   "outputs": [
    {
     "data": {
      "text/plain": [
       "Notebook Rugged 14 \" Core i7 8..    3\n",
       "New ListingHP Pavilion 15-P008..    2\n",
       "Notebook Rugged 14 \" Core i7 1..    2\n",
       "New ListingDell Precision 5540..    2\n",
       "New ListingDell XPS 15 9560 i7..    2\n",
       "New ListingHP 15-BA052AU Lapto..    1\n",
       "Name: Name, dtype: int64"
      ]
     },
     "execution_count": 284,
     "metadata": {},
     "output_type": "execute_result"
    }
   ],
   "source": [
    "top_rated_laptops = df4[df4.Rate == 'Top Rated Seller'].Name.value_counts().head(6)\n",
    "top_rated_laptops"
   ]
  },
  {
   "cell_type": "code",
   "execution_count": null,
   "id": "0d62fee9",
   "metadata": {},
   "outputs": [],
   "source": []
  },
  {
   "cell_type": "code",
   "execution_count": null,
   "id": "18867190",
   "metadata": {},
   "outputs": [],
   "source": []
  },
  {
   "cell_type": "code",
   "execution_count": 286,
   "id": "4682c38d",
   "metadata": {},
   "outputs": [
    {
     "data": {
      "text/plain": [
       "Notebook Rugged 14 \" Core i7 8..    3\n",
       "New ListingHP Pavilion 15-P008..    2\n",
       "Notebook Rugged 14 \" Core i7 1..    2\n",
       "New ListingDell Precision 5540..    2\n",
       "New ListingDell XPS 15 9560 i7..    2\n",
       "New ListingHP 15-BA052AU Lapto..    1\n",
       "Name: Name, dtype: int64"
      ]
     },
     "execution_count": 286,
     "metadata": {},
     "output_type": "execute_result"
    }
   ],
   "source": [
    "top_rated_laptops"
   ]
  },
  {
   "cell_type": "code",
   "execution_count": 290,
   "id": "7100f5b4",
   "metadata": {},
   "outputs": [
    {
     "name": "stdout",
     "output_type": "stream",
     "text": [
      "3\n",
      "2\n",
      "2\n",
      "2\n",
      "2\n",
      "1\n"
     ]
    }
   ],
   "source": [
    "for i in  top_rated_laptops:\n",
    "    print (i)"
   ]
  },
  {
   "cell_type": "code",
   "execution_count": null,
   "id": "0dbe99da",
   "metadata": {},
   "outputs": [],
   "source": []
  },
  {
   "cell_type": "code",
   "execution_count": null,
   "id": "fa514c1f",
   "metadata": {},
   "outputs": [],
   "source": []
  },
  {
   "cell_type": "code",
   "execution_count": 316,
   "id": "edf8326d",
   "metadata": {},
   "outputs": [
    {
     "data": {
      "image/png": "[encoded data removed]",
      "text/plain": [
       "<Figure size 640x480 with 1 Axes>"
      ]
     },
     "metadata": {},
     "output_type": "display_data"
    }
   ],
   "source": [
    "#colors = ['red' if i >=3  else 'yellow' for i in top_rated_laptops] \n",
    "\n",
    "#Lets append as we should use elif  \n",
    "\n",
    "col = [] \n",
    "for i in top_rated_laptops:\n",
    "    if i >=3:\n",
    "        col.append('red')\n",
    "    elif i==2:\n",
    "        col.append('yellow')\n",
    "    else:\n",
    "        col.append('green')\n",
    "\n",
    "\n",
    "top_rated_laptops.plot(kind = 'bar', color = col) \n",
    "plt.yticks([0,1,2,3,4])\n",
    "#plt.style.use('dark_background')\n",
    "plt.legend()\n",
    "plt.xlabel('Names')\n",
    "plt.ylabel('Count') \n",
    "plt.show()\n",
    "\n",
    "\n",
    "#sns.countplot(top_rated_laptops)"
   ]
  },
  {
   "cell_type": "code",
   "execution_count": null,
   "id": "4e8ae3dc",
   "metadata": {},
   "outputs": [],
   "source": []
  },
  {
   "cell_type": "code",
   "execution_count": null,
   "id": "82c1783c",
   "metadata": {},
   "outputs": [],
   "source": []
  },
  {
   "cell_type": "code",
   "execution_count": null,
   "id": "4bec47e3",
   "metadata": {},
   "outputs": [],
   "source": []
  },
  {
   "cell_type": "code",
   "execution_count": 173,
   "id": "1e763733",
   "metadata": {},
   "outputs": [
    {
     "data": {
      "image/png": "[encoded data removed]",
      "text/plain": [
       "<Figure size 1000x600 with 1 Axes>"
      ]
     },
     "metadata": {},
     "output_type": "display_data"
    }
   ],
   "source": [
    "import seaborn as sns   \n",
    "top_rated_country= df4[df4.Rate == 'Top Rated Seller'].Country.value_counts().head()\n",
    "top_rated_country\n",
    "\n",
    "colors = sns.color_palette(\"bright\") \n",
    "labels = top_rated_country.index\n",
    "#create pie chart\n",
    "top_rated_country.plot(kind=\"pie\", colors = colors, labels = None, startangle = 90,  autopct='%.1f%%',  figsize = (10,6))\n",
    "plt.title('Top Rated Seller Countries')\n",
    "plt.legend(labels,  loc=\"upper left\",  bbox_transform=fig.transFigure) \n",
    "plt.axis('equal') \n",
    "\n",
    "plt.show()"
   ]
  },
  {
   "cell_type": "code",
   "execution_count": null,
   "id": "2ae86610",
   "metadata": {},
   "outputs": [],
   "source": []
  },
  {
   "cell_type": "code",
   "execution_count": null,
   "id": "79644224",
   "metadata": {},
   "outputs": [],
   "source": []
  },
  {
   "cell_type": "code",
   "execution_count": null,
   "id": "12df05b0",
   "metadata": {},
   "outputs": [],
   "source": [
    " "
   ]
  },
  {
   "cell_type": "code",
   "execution_count": 175,
   "id": "872e132b",
   "metadata": {},
   "outputs": [
    {
     "data": {
      "image/png": "[encoded data removed]",
      "text/plain": [
       "<Figure size 640x480 with 1 Axes>"
      ]
     },
     "metadata": {},
     "output_type": "display_data"
    }
   ],
   "source": [
    "top_countries_by_sells = df4['Country'].value_counts().head()\n",
    "top_countries_by_sells\n",
    "\n",
    "labels =  top_countries_by_sells.index\n",
    " \n",
    "# Plot\n",
    "plt.pie(top_countries_by_sells, labels=labels, \n",
    "        autopct='%1.1f%%', shadow=True, startangle=140)\n",
    "plt.axis('equal')\n",
    "plt.title('Top Countries by quantity of products', y =1.09)\n",
    "plt.show()"
   ]
  },
  {
   "cell_type": "code",
   "execution_count": null,
   "id": "7f4c1146",
   "metadata": {},
   "outputs": [],
   "source": [
    " "
   ]
  },
  {
   "cell_type": "code",
   "execution_count": null,
   "id": "7de49b27",
   "metadata": {},
   "outputs": [],
   "source": []
  },
  {
   "cell_type": "code",
   "execution_count": 116,
   "id": "b0d971cc",
   "metadata": {},
   "outputs": [
    {
     "data": {
      "text/plain": [
       "22     1,685 sold\n",
       "0        119 sold\n",
       "100      142 sold\n",
       "51        22 sold\n",
       "36       223 sold\n",
       "          ...    \n",
       "188      No order\n",
       "186      No order\n",
       "40       No order\n",
       "157      No order\n",
       "3        No order\n",
       "Name: Quantity, Length: 212, dtype: object"
      ]
     },
     "execution_count": 116,
     "metadata": {},
     "output_type": "execute_result"
    }
   ],
   "source": [
    "df4.Quantity.sort_values(ascending= True)"
   ]
  },
  {
   "cell_type": "code",
   "execution_count": null,
   "id": "c2cf9ccc",
   "metadata": {},
   "outputs": [],
   "source": []
  },
  {
   "cell_type": "code",
   "execution_count": null,
   "id": "4efd653e",
   "metadata": {},
   "outputs": [],
   "source": []
  },
  {
   "cell_type": "code",
   "execution_count": 353,
   "id": "db0a6a94",
   "metadata": {},
   "outputs": [
    {
     "data": {
      "text/plain": [
       "from United States     6\n",
       "from Italy             3\n",
       "from Australia         2\n",
       "from United Kingdom    2\n",
       "from France            1\n",
       "Name: Country, dtype: int64"
      ]
     },
     "execution_count": 353,
     "metadata": {},
     "output_type": "execute_result"
    }
   ],
   "source": [
    "Numb_of_orders = df4[df4['Quantity'].str.contains('No order') != True].Country.value_counts()\n",
    "Numb_of_orders"
   ]
  },
  {
   "cell_type": "code",
   "execution_count": null,
   "id": "5ce17d02",
   "metadata": {},
   "outputs": [],
   "source": []
  },
  {
   "cell_type": "code",
   "execution_count": null,
   "id": "472a4af1",
   "metadata": {},
   "outputs": [],
   "source": []
  },
  {
   "cell_type": "code",
   "execution_count": 394,
   "id": "b988a865",
   "metadata": {},
   "outputs": [
    {
     "data": {
      "text/html": [
       "<div>\n",
       "<style scoped>\n",
       "    .dataframe tbody tr th:only-of-type {\n",
       "        vertical-align: middle;\n",
       "    }\n",
       "\n",
       "    .dataframe tbody tr th {\n",
       "        vertical-align: top;\n",
       "    }\n",
       "\n",
       "    .dataframe thead th {\n",
       "        text-align: right;\n",
       "    }\n",
       "</style>\n",
       "<table border=\"1\" class=\"dataframe\">\n",
       "  <thead>\n",
       "    <tr style=\"text-align: right;\">\n",
       "      <th></th>\n",
       "      <th>Price</th>\n",
       "    </tr>\n",
       "    <tr>\n",
       "      <th>Country</th>\n",
       "      <th></th>\n",
       "    </tr>\n",
       "  </thead>\n",
       "  <tbody>\n",
       "    <tr>\n",
       "      <th>from Italy</th>\n",
       "      <td>126582.92</td>\n",
       "    </tr>\n",
       "    <tr>\n",
       "      <th>from United States</th>\n",
       "      <td>20362.64</td>\n",
       "    </tr>\n",
       "    <tr>\n",
       "      <th>from United Kingdom</th>\n",
       "      <td>10934.30</td>\n",
       "    </tr>\n",
       "    <tr>\n",
       "      <th>from Australia</th>\n",
       "      <td>10280.41</td>\n",
       "    </tr>\n",
       "    <tr>\n",
       "      <th>from Germany</th>\n",
       "      <td>2549.10</td>\n",
       "    </tr>\n",
       "    <tr>\n",
       "      <th>from France</th>\n",
       "      <td>1443.33</td>\n",
       "    </tr>\n",
       "  </tbody>\n",
       "</table>\n",
       "</div>"
      ],
      "text/plain": [
       "                         Price\n",
       "Country                       \n",
       "from Italy           126582.92\n",
       "from United States    20362.64\n",
       "from United Kingdom   10934.30\n",
       "from Australia        10280.41\n",
       "from Germany           2549.10\n",
       "from France            1443.33"
      ]
     },
     "execution_count": 394,
     "metadata": {},
     "output_type": "execute_result"
    }
   ],
   "source": [
    "country_by_expensiveness = df4.groupby('Country').sum().sort_values(by=['Price'], ascending=False).head(6)\n",
    "country_by_expensiveness\n"
   ]
  },
  {
   "cell_type": "code",
   "execution_count": null,
   "id": "62525747",
   "metadata": {},
   "outputs": [],
   "source": []
  },
  {
   "cell_type": "code",
   "execution_count": null,
   "id": "894a49b7",
   "metadata": {},
   "outputs": [],
   "source": []
  },
  {
   "cell_type": "code",
   "execution_count": 395,
   "id": "97b66aab",
   "metadata": {},
   "outputs": [
    {
     "data": {
      "text/html": [
       "<div>\n",
       "<style scoped>\n",
       "    .dataframe tbody tr th:only-of-type {\n",
       "        vertical-align: middle;\n",
       "    }\n",
       "\n",
       "    .dataframe tbody tr th {\n",
       "        vertical-align: top;\n",
       "    }\n",
       "\n",
       "    .dataframe thead th {\n",
       "        text-align: right;\n",
       "    }\n",
       "</style>\n",
       "<table border=\"1\" class=\"dataframe\">\n",
       "  <thead>\n",
       "    <tr style=\"text-align: right;\">\n",
       "      <th></th>\n",
       "      <th>Price</th>\n",
       "    </tr>\n",
       "    <tr>\n",
       "      <th>Country</th>\n",
       "      <th></th>\n",
       "    </tr>\n",
       "  </thead>\n",
       "  <tbody>\n",
       "    <tr>\n",
       "      <th>from Italy</th>\n",
       "      <td>126582.92</td>\n",
       "    </tr>\n",
       "    <tr>\n",
       "      <th>from United States</th>\n",
       "      <td>20362.64</td>\n",
       "    </tr>\n",
       "    <tr>\n",
       "      <th>from United Kingdom</th>\n",
       "      <td>10934.30</td>\n",
       "    </tr>\n",
       "    <tr>\n",
       "      <th>from Australia</th>\n",
       "      <td>10280.41</td>\n",
       "    </tr>\n",
       "    <tr>\n",
       "      <th>from Germany</th>\n",
       "      <td>2549.10</td>\n",
       "    </tr>\n",
       "    <tr>\n",
       "      <th>from France</th>\n",
       "      <td>1443.33</td>\n",
       "    </tr>\n",
       "  </tbody>\n",
       "</table>\n",
       "</div>"
      ],
      "text/plain": [
       "                         Price\n",
       "Country                       \n",
       "from Italy           126582.92\n",
       "from United States    20362.64\n",
       "from United Kingdom   10934.30\n",
       "from Australia        10280.41\n",
       "from Germany           2549.10\n",
       "from France            1443.33"
      ]
     },
     "execution_count": 395,
     "metadata": {},
     "output_type": "execute_result"
    }
   ],
   "source": [
    "country_by_expensiveness\n"
   ]
  },
  {
   "cell_type": "code",
   "execution_count": null,
   "id": "ba0e5dff",
   "metadata": {},
   "outputs": [],
   "source": []
  },
  {
   "cell_type": "code",
   "execution_count": null,
   "id": "aef0bd57",
   "metadata": {},
   "outputs": [],
   "source": []
  },
  {
   "cell_type": "code",
   "execution_count": 397,
   "id": "212c8472",
   "metadata": {},
   "outputs": [
    {
     "data": {
      "text/html": [
       "<div>\n",
       "<style scoped>\n",
       "    .dataframe tbody tr th:only-of-type {\n",
       "        vertical-align: middle;\n",
       "    }\n",
       "\n",
       "    .dataframe tbody tr th {\n",
       "        vertical-align: top;\n",
       "    }\n",
       "\n",
       "    .dataframe thead th {\n",
       "        text-align: right;\n",
       "    }\n",
       "</style>\n",
       "<table border=\"1\" class=\"dataframe\">\n",
       "  <thead>\n",
       "    <tr style=\"text-align: right;\">\n",
       "      <th></th>\n",
       "      <th>Country</th>\n",
       "      <th>Price</th>\n",
       "    </tr>\n",
       "  </thead>\n",
       "  <tbody>\n",
       "    <tr>\n",
       "      <th>0</th>\n",
       "      <td>from Italy</td>\n",
       "      <td>126582.92</td>\n",
       "    </tr>\n",
       "    <tr>\n",
       "      <th>1</th>\n",
       "      <td>from United States</td>\n",
       "      <td>20362.64</td>\n",
       "    </tr>\n",
       "    <tr>\n",
       "      <th>2</th>\n",
       "      <td>from United Kingdom</td>\n",
       "      <td>10934.30</td>\n",
       "    </tr>\n",
       "    <tr>\n",
       "      <th>3</th>\n",
       "      <td>from Australia</td>\n",
       "      <td>10280.41</td>\n",
       "    </tr>\n",
       "    <tr>\n",
       "      <th>4</th>\n",
       "      <td>from Germany</td>\n",
       "      <td>2549.10</td>\n",
       "    </tr>\n",
       "    <tr>\n",
       "      <th>5</th>\n",
       "      <td>from France</td>\n",
       "      <td>1443.33</td>\n",
       "    </tr>\n",
       "  </tbody>\n",
       "</table>\n",
       "</div>"
      ],
      "text/plain": [
       "               Country      Price\n",
       "0           from Italy  126582.92\n",
       "1   from United States   20362.64\n",
       "2  from United Kingdom   10934.30\n",
       "3       from Australia   10280.41\n",
       "4         from Germany    2549.10\n",
       "5          from France    1443.33"
      ]
     },
     "execution_count": 397,
     "metadata": {},
     "output_type": "execute_result"
    }
   ],
   "source": [
    "country_by_expensiveness.reset_index(inplace = True)\n",
    "country_by_expensiveness"
   ]
  },
  {
   "cell_type": "code",
   "execution_count": null,
   "id": "0bf0027d",
   "metadata": {},
   "outputs": [],
   "source": []
  },
  {
   "cell_type": "code",
   "execution_count": 400,
   "id": "d7ac49eb",
   "metadata": {},
   "outputs": [],
   "source": [
    "country_by_expensiveness['Country'] = country_by_expensiveness['Country'].apply(lambda x: x[4:]) "
   ]
  },
  {
   "cell_type": "code",
   "execution_count": null,
   "id": "40acbb4f",
   "metadata": {},
   "outputs": [],
   "source": []
  },
  {
   "cell_type": "code",
   "execution_count": 460,
   "id": "0668d60c",
   "metadata": {},
   "outputs": [
    {
     "data": {
      "text/html": [
       "<div>\n",
       "<style scoped>\n",
       "    .dataframe tbody tr th:only-of-type {\n",
       "        vertical-align: middle;\n",
       "    }\n",
       "\n",
       "    .dataframe tbody tr th {\n",
       "        vertical-align: top;\n",
       "    }\n",
       "\n",
       "    .dataframe thead th {\n",
       "        text-align: right;\n",
       "    }\n",
       "</style>\n",
       "<table border=\"1\" class=\"dataframe\">\n",
       "  <thead>\n",
       "    <tr style=\"text-align: right;\">\n",
       "      <th></th>\n",
       "      <th>Price</th>\n",
       "    </tr>\n",
       "    <tr>\n",
       "      <th>Country</th>\n",
       "      <th></th>\n",
       "    </tr>\n",
       "  </thead>\n",
       "  <tbody>\n",
       "    <tr>\n",
       "      <th>Italy</th>\n",
       "      <td>126582.92</td>\n",
       "    </tr>\n",
       "    <tr>\n",
       "      <th>United States</th>\n",
       "      <td>20362.64</td>\n",
       "    </tr>\n",
       "    <tr>\n",
       "      <th>United Kingdom</th>\n",
       "      <td>10934.30</td>\n",
       "    </tr>\n",
       "    <tr>\n",
       "      <th>Australia</th>\n",
       "      <td>10280.41</td>\n",
       "    </tr>\n",
       "    <tr>\n",
       "      <th>Germany</th>\n",
       "      <td>2549.10</td>\n",
       "    </tr>\n",
       "    <tr>\n",
       "      <th>France</th>\n",
       "      <td>1443.33</td>\n",
       "    </tr>\n",
       "  </tbody>\n",
       "</table>\n",
       "</div>"
      ],
      "text/plain": [
       "                     Price\n",
       "Country                   \n",
       " Italy           126582.92\n",
       " United States    20362.64\n",
       " United Kingdom   10934.30\n",
       " Australia        10280.41\n",
       " Germany           2549.10\n",
       " France            1443.33"
      ]
     },
     "execution_count": 460,
     "metadata": {},
     "output_type": "execute_result"
    }
   ],
   "source": [
    "country_by_expensiveness.set_index('Country', inplace = True)\n",
    "country_by_expensiveness"
   ]
  },
  {
   "cell_type": "code",
   "execution_count": null,
   "id": "d5827a34",
   "metadata": {},
   "outputs": [],
   "source": []
  },
  {
   "cell_type": "code",
   "execution_count": null,
   "id": "24d26537",
   "metadata": {},
   "outputs": [],
   "source": []
  },
  {
   "cell_type": "code",
   "execution_count": 461,
   "id": "5769b46a",
   "metadata": {},
   "outputs": [
    {
     "data": {
      "text/plain": [
       "Index([' Italy', ' United States', ' United Kingdom', ' Australia', ' Germany',\n",
       "       ' France'],\n",
       "      dtype='object', name='Country')"
      ]
     },
     "execution_count": 461,
     "metadata": {},
     "output_type": "execute_result"
    }
   ],
   "source": [
    "country_by_expensiveness.index"
   ]
  },
  {
   "cell_type": "code",
   "execution_count": null,
   "id": "47556e43",
   "metadata": {},
   "outputs": [],
   "source": []
  },
  {
   "cell_type": "code",
   "execution_count": 458,
   "id": "fbff4f5d",
   "metadata": {},
   "outputs": [
    {
     "data": {
      "image/png": "[encoded data removed]",
      "text/plain": [
       "<Figure size 640x480 with 1 Axes>"
      ]
     },
     "metadata": {},
     "output_type": "display_data"
    }
   ],
   "source": [
    "\n",
    "labels = country_by_expensiveness.index\n",
    "country_by_expensiveness.plot(kind = 'bar', color = 'b', label = labels) \n",
    "#plt.yticks(coun)\n",
    "#plt.style.use('dark_background')\n",
    "plt.legend(loc=\"upper right\") \n",
    "plt.xlabel('Names')\n",
    "plt.ylabel('Count') \n",
    "plt.show()"
   ]
  },
  {
   "cell_type": "code",
   "execution_count": null,
   "id": "752e4e88",
   "metadata": {},
   "outputs": [],
   "source": []
  },
  {
   "cell_type": "code",
   "execution_count": null,
   "id": "e38261ed",
   "metadata": {},
   "outputs": [],
   "source": []
  },
  {
   "cell_type": "code",
   "execution_count": null,
   "id": "8a754015",
   "metadata": {},
   "outputs": [],
   "source": []
  },
  {
   "cell_type": "code",
   "execution_count": null,
   "id": "459809aa",
   "metadata": {},
   "outputs": [],
   "source": []
  }
 ],
 "metadata": {
  "kernelspec": {
   "display_name": "Python 3 (ipykernel)",
   "language": "python",
   "name": "python3"
  },
  "language_info": {
   "codemirror_mode": {
    "name": "ipython",
    "version": 3
   },
   "file_extension": ".py",
   "mimetype": "text/x-python",
   "name": "python",
   "nbconvert_exporter": "python",
   "pygments_lexer": "ipython3",
   "version": "3.10.6"
  }
 },
 "nbformat": 4,
 "nbformat_minor": 5
}
