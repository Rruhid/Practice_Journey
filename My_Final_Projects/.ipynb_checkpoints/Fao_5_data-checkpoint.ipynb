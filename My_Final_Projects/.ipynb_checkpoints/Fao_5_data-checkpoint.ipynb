{
 "cells": [
  {
   "cell_type": "code",
   "execution_count": 959,
   "id": "54575a1f",
   "metadata": {},
   "outputs": [],
   "source": [
    "import pandas as pd\n",
    "import matplotlib.pyplot as plt\n",
    "%matplotlib inline\n",
    "import numpy as np\n",
    "import os "
   ]
  },
  {
   "cell_type": "code",
   "execution_count": null,
   "id": "a5e1d989",
   "metadata": {},
   "outputs": [],
   "source": []
  },
  {
   "cell_type": "code",
   "execution_count": 960,
   "id": "58072ef7",
   "metadata": {},
   "outputs": [
    {
     "data": {
      "text/plain": [
       "['data_2000.csv',\n",
       " 'data_2005.csv',\n",
       " 'data_2010.csv',\n",
       " 'data_2015.csv',\n",
       " 'data_2020.csv']"
      ]
     },
     "execution_count": 960,
     "metadata": {},
     "output_type": "execute_result"
    }
   ],
   "source": [
    "#df = pd.read_csv('data_practice')\n",
    "filename = [filenames for filenames in os.listdir('data_practice')][6:11]\n",
    "filename"
   ]
  },
  {
   "cell_type": "code",
   "execution_count": null,
   "id": "67f7834f",
   "metadata": {},
   "outputs": [],
   "source": []
  },
  {
   "cell_type": "code",
   "execution_count": null,
   "id": "0457277a",
   "metadata": {},
   "outputs": [],
   "source": []
  },
  {
   "cell_type": "code",
   "execution_count": null,
   "id": "8c7f7474",
   "metadata": {},
   "outputs": [],
   "source": []
  },
  {
   "cell_type": "code",
   "execution_count": 961,
   "id": "9424915f",
   "metadata": {},
   "outputs": [
    {
     "name": "stdout",
     "output_type": "stream",
     "text": [
      "data_2000.csv\n",
      "data_2005.csv\n",
      "data_2010.csv\n",
      "data_2015.csv\n",
      "data_2020.csv\n"
     ]
    }
   ],
   "source": [
    "all_data = pd.DataFrame()\n",
    "\n",
    "for file in filename:\n",
    "    print(file)\n",
    "    df = pd.read_csv('./data_practice/' + file)\n",
    "    #print(df)\n",
    "    all_data = pd.concat([all_data, df])\n",
    "    #all_data.to_csv('./data_practice/all_data.csv', index = False)"
   ]
  },
  {
   "cell_type": "code",
   "execution_count": null,
   "id": "f99d9084",
   "metadata": {},
   "outputs": [],
   "source": []
  },
  {
   "cell_type": "code",
   "execution_count": null,
   "id": "edf74a96",
   "metadata": {},
   "outputs": [],
   "source": []
  },
  {
   "cell_type": "code",
   "execution_count": 962,
   "id": "ebf43561",
   "metadata": {},
   "outputs": [
    {
     "data": {
      "text/html": [
       "<div>\n",
       "<style scoped>\n",
       "    .dataframe tbody tr th:only-of-type {\n",
       "        vertical-align: middle;\n",
       "    }\n",
       "\n",
       "    .dataframe tbody tr th {\n",
       "        vertical-align: top;\n",
       "    }\n",
       "\n",
       "    .dataframe thead th {\n",
       "        text-align: right;\n",
       "    }\n",
       "</style>\n",
       "<table border=\"1\" class=\"dataframe\">\n",
       "  <thead>\n",
       "    <tr style=\"text-align: right;\">\n",
       "      <th></th>\n",
       "      <th>Domain Code</th>\n",
       "      <th>Domain</th>\n",
       "      <th>Area Code (M49)</th>\n",
       "      <th>Area</th>\n",
       "      <th>Element Code</th>\n",
       "      <th>Element</th>\n",
       "      <th>Item Code (CPC)</th>\n",
       "      <th>Item</th>\n",
       "      <th>Year Code</th>\n",
       "      <th>Year</th>\n",
       "      <th>Unit</th>\n",
       "      <th>Value</th>\n",
       "      <th>Flag</th>\n",
       "      <th>Flag Description</th>\n",
       "    </tr>\n",
       "  </thead>\n",
       "  <tbody>\n",
       "    <tr>\n",
       "      <th>0</th>\n",
       "      <td>TCL</td>\n",
       "      <td>Crops and livestock products</td>\n",
       "      <td>51</td>\n",
       "      <td>Armenia</td>\n",
       "      <td>5610</td>\n",
       "      <td>Import Quantity</td>\n",
       "      <td>115.0</td>\n",
       "      <td>Barley</td>\n",
       "      <td>2000</td>\n",
       "      <td>2000-01-01</td>\n",
       "      <td>tonnes</td>\n",
       "      <td>1386.0</td>\n",
       "      <td>A</td>\n",
       "      <td>Official figure</td>\n",
       "    </tr>\n",
       "    <tr>\n",
       "      <th>1</th>\n",
       "      <td>TCL</td>\n",
       "      <td>Crops and livestock products</td>\n",
       "      <td>51</td>\n",
       "      <td>Armenia</td>\n",
       "      <td>5622</td>\n",
       "      <td>Import Value</td>\n",
       "      <td>115.0</td>\n",
       "      <td>Barley</td>\n",
       "      <td>2000</td>\n",
       "      <td>2000-01-01</td>\n",
       "      <td>1000 US$</td>\n",
       "      <td>341.0</td>\n",
       "      <td>A</td>\n",
       "      <td>Official figure</td>\n",
       "    </tr>\n",
       "    <tr>\n",
       "      <th>2</th>\n",
       "      <td>TCL</td>\n",
       "      <td>Crops and livestock products</td>\n",
       "      <td>51</td>\n",
       "      <td>Armenia</td>\n",
       "      <td>5608</td>\n",
       "      <td>Import Quantity</td>\n",
       "      <td>2111.0</td>\n",
       "      <td>Cattle</td>\n",
       "      <td>2000</td>\n",
       "      <td>2000-01-01</td>\n",
       "      <td>Head</td>\n",
       "      <td>NaN</td>\n",
       "      <td>M</td>\n",
       "      <td>Missing value (data cannot exist, not applicable)</td>\n",
       "    </tr>\n",
       "    <tr>\n",
       "      <th>3</th>\n",
       "      <td>TCL</td>\n",
       "      <td>Crops and livestock products</td>\n",
       "      <td>51</td>\n",
       "      <td>Armenia</td>\n",
       "      <td>5622</td>\n",
       "      <td>Import Value</td>\n",
       "      <td>2111.0</td>\n",
       "      <td>Cattle</td>\n",
       "      <td>2000</td>\n",
       "      <td>2000-01-01</td>\n",
       "      <td>1000 US$</td>\n",
       "      <td>NaN</td>\n",
       "      <td>O</td>\n",
       "      <td>Missing value</td>\n",
       "    </tr>\n",
       "    <tr>\n",
       "      <th>4</th>\n",
       "      <td>TCL</td>\n",
       "      <td>Crops and livestock products</td>\n",
       "      <td>51</td>\n",
       "      <td>Armenia</td>\n",
       "      <td>5908</td>\n",
       "      <td>Export Quantity</td>\n",
       "      <td>NaN</td>\n",
       "      <td>Cattle</td>\n",
       "      <td>2000</td>\n",
       "      <td>2000-01-01</td>\n",
       "      <td>Head</td>\n",
       "      <td>NaN</td>\n",
       "      <td>M</td>\n",
       "      <td>Missing value (data cannot exist, not applicable)</td>\n",
       "    </tr>\n",
       "    <tr>\n",
       "      <th>...</th>\n",
       "      <td>...</td>\n",
       "      <td>...</td>\n",
       "      <td>...</td>\n",
       "      <td>...</td>\n",
       "      <td>...</td>\n",
       "      <td>...</td>\n",
       "      <td>...</td>\n",
       "      <td>...</td>\n",
       "      <td>...</td>\n",
       "      <td>...</td>\n",
       "      <td>...</td>\n",
       "      <td>...</td>\n",
       "      <td>...</td>\n",
       "      <td>...</td>\n",
       "    </tr>\n",
       "    <tr>\n",
       "      <th>1440</th>\n",
       "      <td>TCL</td>\n",
       "      <td>Crops and livestock products</td>\n",
       "      <td>860</td>\n",
       "      <td>Uzbekistan</td>\n",
       "      <td>5922</td>\n",
       "      <td>Export Value</td>\n",
       "      <td>2140.0</td>\n",
       "      <td>Swine / pigs</td>\n",
       "      <td>2020</td>\n",
       "      <td>2020-01-01</td>\n",
       "      <td>1000 US$</td>\n",
       "      <td>0.0</td>\n",
       "      <td>A</td>\n",
       "      <td>Official figure</td>\n",
       "    </tr>\n",
       "    <tr>\n",
       "      <th>1441</th>\n",
       "      <td>TCL</td>\n",
       "      <td>Crops and livestock products</td>\n",
       "      <td>860</td>\n",
       "      <td>Uzbekistan</td>\n",
       "      <td>5610</td>\n",
       "      <td>Import Quantity</td>\n",
       "      <td>111.0</td>\n",
       "      <td>Wheat</td>\n",
       "      <td>2020</td>\n",
       "      <td>2020-01-01</td>\n",
       "      <td>tonnes</td>\n",
       "      <td>2799621.0</td>\n",
       "      <td>A</td>\n",
       "      <td>Official figure</td>\n",
       "    </tr>\n",
       "    <tr>\n",
       "      <th>1442</th>\n",
       "      <td>TCL</td>\n",
       "      <td>Crops and livestock products</td>\n",
       "      <td>860</td>\n",
       "      <td>Uzbekistan</td>\n",
       "      <td>5622</td>\n",
       "      <td>Import Value</td>\n",
       "      <td>111.0</td>\n",
       "      <td>Wheat</td>\n",
       "      <td>2020</td>\n",
       "      <td>2020-01-01</td>\n",
       "      <td>1000 US$</td>\n",
       "      <td>556494.0</td>\n",
       "      <td>A</td>\n",
       "      <td>Official figure</td>\n",
       "    </tr>\n",
       "    <tr>\n",
       "      <th>1443</th>\n",
       "      <td>TCL</td>\n",
       "      <td>Crops and livestock products</td>\n",
       "      <td>860</td>\n",
       "      <td>Uzbekistan</td>\n",
       "      <td>5910</td>\n",
       "      <td>Export Quantity</td>\n",
       "      <td>111.0</td>\n",
       "      <td>Wheat</td>\n",
       "      <td>2020</td>\n",
       "      <td>2020-01-01</td>\n",
       "      <td>tonnes</td>\n",
       "      <td>48212.0</td>\n",
       "      <td>A</td>\n",
       "      <td>Official figure</td>\n",
       "    </tr>\n",
       "    <tr>\n",
       "      <th>1444</th>\n",
       "      <td>TCL</td>\n",
       "      <td>Crops and livestock products</td>\n",
       "      <td>860</td>\n",
       "      <td>Uzbekistan</td>\n",
       "      <td>5922</td>\n",
       "      <td>Export Value</td>\n",
       "      <td>111.0</td>\n",
       "      <td>Wheat</td>\n",
       "      <td>2020</td>\n",
       "      <td>2020-01-01</td>\n",
       "      <td>1000 US$</td>\n",
       "      <td>10059.0</td>\n",
       "      <td>A</td>\n",
       "      <td>Official figure</td>\n",
       "    </tr>\n",
       "  </tbody>\n",
       "</table>\n",
       "<p>1445 rows × 14 columns</p>\n",
       "</div>"
      ],
      "text/plain": [
       "     Domain Code                        Domain  Area Code (M49)        Area  \\\n",
       "0            TCL  Crops and livestock products               51     Armenia   \n",
       "1            TCL  Crops and livestock products               51     Armenia   \n",
       "2            TCL  Crops and livestock products               51     Armenia   \n",
       "3            TCL  Crops and livestock products               51     Armenia   \n",
       "4            TCL  Crops and livestock products               51     Armenia   \n",
       "...          ...                           ...              ...         ...   \n",
       "1440         TCL  Crops and livestock products              860  Uzbekistan   \n",
       "1441         TCL  Crops and livestock products              860  Uzbekistan   \n",
       "1442         TCL  Crops and livestock products              860  Uzbekistan   \n",
       "1443         TCL  Crops and livestock products              860  Uzbekistan   \n",
       "1444         TCL  Crops and livestock products              860  Uzbekistan   \n",
       "\n",
       "      Element Code          Element  Item Code (CPC)          Item  Year Code  \\\n",
       "0             5610  Import Quantity            115.0        Barley       2000   \n",
       "1             5622     Import Value            115.0        Barley       2000   \n",
       "2             5608  Import Quantity           2111.0        Cattle       2000   \n",
       "3             5622     Import Value           2111.0        Cattle       2000   \n",
       "4             5908  Export Quantity              NaN        Cattle       2000   \n",
       "...            ...              ...              ...           ...        ...   \n",
       "1440          5922     Export Value           2140.0  Swine / pigs       2020   \n",
       "1441          5610  Import Quantity            111.0         Wheat       2020   \n",
       "1442          5622     Import Value            111.0         Wheat       2020   \n",
       "1443          5910  Export Quantity            111.0         Wheat       2020   \n",
       "1444          5922     Export Value            111.0         Wheat       2020   \n",
       "\n",
       "           Year      Unit      Value Flag  \\\n",
       "0    2000-01-01    tonnes     1386.0    A   \n",
       "1    2000-01-01  1000 US$      341.0    A   \n",
       "2    2000-01-01      Head        NaN    M   \n",
       "3    2000-01-01  1000 US$        NaN    O   \n",
       "4    2000-01-01      Head        NaN    M   \n",
       "...         ...       ...        ...  ...   \n",
       "1440 2020-01-01  1000 US$        0.0    A   \n",
       "1441 2020-01-01    tonnes  2799621.0    A   \n",
       "1442 2020-01-01  1000 US$   556494.0    A   \n",
       "1443 2020-01-01    tonnes    48212.0    A   \n",
       "1444 2020-01-01  1000 US$    10059.0    A   \n",
       "\n",
       "                                       Flag Description  \n",
       "0                                       Official figure  \n",
       "1                                       Official figure  \n",
       "2     Missing value (data cannot exist, not applicable)  \n",
       "3                                         Missing value  \n",
       "4     Missing value (data cannot exist, not applicable)  \n",
       "...                                                 ...  \n",
       "1440                                    Official figure  \n",
       "1441                                    Official figure  \n",
       "1442                                    Official figure  \n",
       "1443                                    Official figure  \n",
       "1444                                    Official figure  \n",
       "\n",
       "[1445 rows x 14 columns]"
      ]
     },
     "execution_count": 962,
     "metadata": {},
     "output_type": "execute_result"
    }
   ],
   "source": [
    "df  = pd.read_csv('data_practice/all_data.csv', sep=',', parse_dates = ['Year'])\n",
    "df "
   ]
  },
  {
   "cell_type": "code",
   "execution_count": null,
   "id": "b6acde21",
   "metadata": {},
   "outputs": [],
   "source": []
  },
  {
   "cell_type": "code",
   "execution_count": null,
   "id": "06091849",
   "metadata": {},
   "outputs": [],
   "source": []
  },
  {
   "cell_type": "code",
   "execution_count": 963,
   "id": "15447256",
   "metadata": {},
   "outputs": [
    {
     "data": {
      "text/plain": [
       "Domain Code           6\n",
       "Domain                0\n",
       "Area Code (M49)       0\n",
       "Area                  0\n",
       "Element Code          0\n",
       "Element               0\n",
       "Item Code (CPC)      11\n",
       "Item                  0\n",
       "Year Code             0\n",
       "Year                  0\n",
       "Unit                  0\n",
       "Value               109\n",
       "Flag                  0\n",
       "Flag Description      0\n",
       "dtype: int64"
      ]
     },
     "execution_count": 963,
     "metadata": {},
     "output_type": "execute_result"
    }
   ],
   "source": [
    "df.isnull().sum()"
   ]
  },
  {
   "cell_type": "code",
   "execution_count": 964,
   "id": "fb285274",
   "metadata": {},
   "outputs": [],
   "source": [
    "columns_replace = ['Domain Code','Item Code (CPC)', 'Value']\n",
    "for column in columns_replace:\n",
    "    df[column] = df[column].fillna('unknown')"
   ]
  },
  {
   "cell_type": "code",
   "execution_count": 965,
   "id": "f3058086",
   "metadata": {},
   "outputs": [
    {
     "data": {
      "text/plain": [
       "Domain Code         0\n",
       "Domain              0\n",
       "Area Code (M49)     0\n",
       "Area                0\n",
       "Element Code        0\n",
       "Element             0\n",
       "Item Code (CPC)     0\n",
       "Item                0\n",
       "Year Code           0\n",
       "Year                0\n",
       "Unit                0\n",
       "Value               0\n",
       "Flag                0\n",
       "Flag Description    0\n",
       "dtype: int64"
      ]
     },
     "execution_count": 965,
     "metadata": {},
     "output_type": "execute_result"
    }
   ],
   "source": [
    "df.isnull().sum()"
   ]
  },
  {
   "cell_type": "code",
   "execution_count": 966,
   "id": "244cd290",
   "metadata": {},
   "outputs": [
    {
     "data": {
      "text/plain": [
       "0.0        231\n",
       "unknown    109\n",
       "1.0         16\n",
       "3.0         15\n",
       "2.0         14\n",
       "          ... \n",
       "1649.0       1\n",
       "10542.0      1\n",
       "12249.0      1\n",
       "4992.0       1\n",
       "10059.0      1\n",
       "Name: Value, Length: 879, dtype: int64"
      ]
     },
     "execution_count": 966,
     "metadata": {},
     "output_type": "execute_result"
    }
   ],
   "source": [
    "df.Value.value_counts()"
   ]
  },
  {
   "cell_type": "code",
   "execution_count": null,
   "id": "857eda89",
   "metadata": {},
   "outputs": [],
   "source": []
  },
  {
   "cell_type": "code",
   "execution_count": null,
   "id": "68e71165",
   "metadata": {},
   "outputs": [],
   "source": []
  },
  {
   "cell_type": "code",
   "execution_count": null,
   "id": "9cc7a841",
   "metadata": {},
   "outputs": [],
   "source": []
  },
  {
   "cell_type": "code",
   "execution_count": 967,
   "id": "868ff18e",
   "metadata": {},
   "outputs": [
    {
     "data": {
      "text/plain": [
       "Domain Code         0\n",
       "Domain              0\n",
       "Area Code (M49)     0\n",
       "Area                0\n",
       "Element Code        0\n",
       "Element             0\n",
       "Item Code (CPC)     0\n",
       "Item                0\n",
       "Year Code           0\n",
       "Year                0\n",
       "Unit                0\n",
       "Value               0\n",
       "Flag                0\n",
       "Flag Description    0\n",
       "dtype: int64"
      ]
     },
     "execution_count": 967,
     "metadata": {},
     "output_type": "execute_result"
    }
   ],
   "source": [
    "df[df.isna().any(axis =1)]\n",
    "\n",
    "#All info that we require here is in the Value column, so Null values existed in this column are not interesting, we could drop them\n",
    "#df.dropna(inplace=True)\n",
    "#check again \n",
    "df.isnull().sum()\n",
    " \n"
   ]
  },
  {
   "cell_type": "code",
   "execution_count": 968,
   "id": "455e47ff",
   "metadata": {},
   "outputs": [
    {
     "data": {
      "text/plain": [
       "Domain Code                 object\n",
       "Domain                      object\n",
       "Area Code (M49)              int64\n",
       "Area                        object\n",
       "Element Code                 int64\n",
       "Element                     object\n",
       "Item Code (CPC)             object\n",
       "Item                        object\n",
       "Year Code                    int64\n",
       "Year                datetime64[ns]\n",
       "Unit                        object\n",
       "Value                       object\n",
       "Flag                        object\n",
       "Flag Description            object\n",
       "dtype: object"
      ]
     },
     "execution_count": 968,
     "metadata": {},
     "output_type": "execute_result"
    }
   ],
   "source": [
    "df.dtypes"
   ]
  },
  {
   "cell_type": "code",
   "execution_count": null,
   "id": "b36c728f",
   "metadata": {},
   "outputs": [],
   "source": []
  },
  {
   "cell_type": "code",
   "execution_count": 969,
   "id": "91714a2b",
   "metadata": {},
   "outputs": [
    {
     "data": {
      "text/html": [
       "<div>\n",
       "<style scoped>\n",
       "    .dataframe tbody tr th:only-of-type {\n",
       "        vertical-align: middle;\n",
       "    }\n",
       "\n",
       "    .dataframe tbody tr th {\n",
       "        vertical-align: top;\n",
       "    }\n",
       "\n",
       "    .dataframe thead th {\n",
       "        text-align: right;\n",
       "    }\n",
       "</style>\n",
       "<table border=\"1\" class=\"dataframe\">\n",
       "  <thead>\n",
       "    <tr style=\"text-align: right;\">\n",
       "      <th></th>\n",
       "      <th>Domain</th>\n",
       "      <th>Area</th>\n",
       "      <th>Element</th>\n",
       "      <th>Item</th>\n",
       "      <th>Value</th>\n",
       "      <th>Year</th>\n",
       "    </tr>\n",
       "  </thead>\n",
       "  <tbody>\n",
       "    <tr>\n",
       "      <th>0</th>\n",
       "      <td>Crops and livestock products</td>\n",
       "      <td>Armenia</td>\n",
       "      <td>Import Quantity</td>\n",
       "      <td>Barley</td>\n",
       "      <td>1386.0</td>\n",
       "      <td>2000-01-01</td>\n",
       "    </tr>\n",
       "    <tr>\n",
       "      <th>1</th>\n",
       "      <td>Crops and livestock products</td>\n",
       "      <td>Armenia</td>\n",
       "      <td>Import Value</td>\n",
       "      <td>Barley</td>\n",
       "      <td>341.0</td>\n",
       "      <td>2000-01-01</td>\n",
       "    </tr>\n",
       "    <tr>\n",
       "      <th>2</th>\n",
       "      <td>Crops and livestock products</td>\n",
       "      <td>Armenia</td>\n",
       "      <td>Import Quantity</td>\n",
       "      <td>Cattle</td>\n",
       "      <td>unknown</td>\n",
       "      <td>2000-01-01</td>\n",
       "    </tr>\n",
       "    <tr>\n",
       "      <th>3</th>\n",
       "      <td>Crops and livestock products</td>\n",
       "      <td>Armenia</td>\n",
       "      <td>Import Value</td>\n",
       "      <td>Cattle</td>\n",
       "      <td>unknown</td>\n",
       "      <td>2000-01-01</td>\n",
       "    </tr>\n",
       "    <tr>\n",
       "      <th>4</th>\n",
       "      <td>Crops and livestock products</td>\n",
       "      <td>Armenia</td>\n",
       "      <td>Export Quantity</td>\n",
       "      <td>Cattle</td>\n",
       "      <td>unknown</td>\n",
       "      <td>2000-01-01</td>\n",
       "    </tr>\n",
       "    <tr>\n",
       "      <th>5</th>\n",
       "      <td>Crops and livestock products</td>\n",
       "      <td>Armenia</td>\n",
       "      <td>Export Value</td>\n",
       "      <td>Cattle</td>\n",
       "      <td>unknown</td>\n",
       "      <td>2000-01-01</td>\n",
       "    </tr>\n",
       "    <tr>\n",
       "      <th>6</th>\n",
       "      <td>Crops and livestock products</td>\n",
       "      <td>Armenia</td>\n",
       "      <td>Import Quantity</td>\n",
       "      <td>Chickens</td>\n",
       "      <td>719.0</td>\n",
       "      <td>2000-01-01</td>\n",
       "    </tr>\n",
       "    <tr>\n",
       "      <th>7</th>\n",
       "      <td>Crops and livestock products</td>\n",
       "      <td>Armenia</td>\n",
       "      <td>Import Value</td>\n",
       "      <td>Chickens</td>\n",
       "      <td>732.0</td>\n",
       "      <td>2000-01-01</td>\n",
       "    </tr>\n",
       "    <tr>\n",
       "      <th>8</th>\n",
       "      <td>Crops and livestock products</td>\n",
       "      <td>Armenia</td>\n",
       "      <td>Export Quantity</td>\n",
       "      <td>Chickens</td>\n",
       "      <td>unknown</td>\n",
       "      <td>2000-01-01</td>\n",
       "    </tr>\n",
       "    <tr>\n",
       "      <th>9</th>\n",
       "      <td>Crops and livestock products</td>\n",
       "      <td>Armenia</td>\n",
       "      <td>Export Value</td>\n",
       "      <td>Chickens</td>\n",
       "      <td>unknown</td>\n",
       "      <td>2000-01-01</td>\n",
       "    </tr>\n",
       "  </tbody>\n",
       "</table>\n",
       "</div>"
      ],
      "text/plain": [
       "                         Domain     Area          Element      Item    Value  \\\n",
       "0  Crops and livestock products  Armenia  Import Quantity    Barley   1386.0   \n",
       "1  Crops and livestock products  Armenia     Import Value    Barley    341.0   \n",
       "2  Crops and livestock products  Armenia  Import Quantity    Cattle  unknown   \n",
       "3  Crops and livestock products  Armenia     Import Value    Cattle  unknown   \n",
       "4  Crops and livestock products  Armenia  Export Quantity    Cattle  unknown   \n",
       "5  Crops and livestock products  Armenia     Export Value    Cattle  unknown   \n",
       "6  Crops and livestock products  Armenia  Import Quantity  Chickens    719.0   \n",
       "7  Crops and livestock products  Armenia     Import Value  Chickens    732.0   \n",
       "8  Crops and livestock products  Armenia  Export Quantity  Chickens  unknown   \n",
       "9  Crops and livestock products  Armenia     Export Value  Chickens  unknown   \n",
       "\n",
       "        Year  \n",
       "0 2000-01-01  \n",
       "1 2000-01-01  \n",
       "2 2000-01-01  \n",
       "3 2000-01-01  \n",
       "4 2000-01-01  \n",
       "5 2000-01-01  \n",
       "6 2000-01-01  \n",
       "7 2000-01-01  \n",
       "8 2000-01-01  \n",
       "9 2000-01-01  "
      ]
     },
     "execution_count": 969,
     "metadata": {},
     "output_type": "execute_result"
    }
   ],
   "source": [
    "df = df[['Domain', 'Area', 'Element', 'Item', 'Value' , 'Year']]\n",
    "df.head(10)\n"
   ]
  },
  {
   "cell_type": "code",
   "execution_count": null,
   "id": "f9e9ba2c",
   "metadata": {},
   "outputs": [],
   "source": []
  },
  {
   "cell_type": "code",
   "execution_count": null,
   "id": "f922ea2e",
   "metadata": {},
   "outputs": [],
   "source": []
  },
  {
   "cell_type": "code",
   "execution_count": 970,
   "id": "8643b6ca",
   "metadata": {},
   "outputs": [
    {
     "data": {
      "text/html": [
       "<div>\n",
       "<style scoped>\n",
       "    .dataframe tbody tr th:only-of-type {\n",
       "        vertical-align: middle;\n",
       "    }\n",
       "\n",
       "    .dataframe tbody tr th {\n",
       "        vertical-align: top;\n",
       "    }\n",
       "\n",
       "    .dataframe thead th {\n",
       "        text-align: right;\n",
       "    }\n",
       "</style>\n",
       "<table border=\"1\" class=\"dataframe\">\n",
       "  <thead>\n",
       "    <tr style=\"text-align: right;\">\n",
       "      <th></th>\n",
       "      <th>Domain</th>\n",
       "      <th>Area</th>\n",
       "      <th>Element</th>\n",
       "      <th>Item</th>\n",
       "      <th>Value</th>\n",
       "      <th>Year</th>\n",
       "    </tr>\n",
       "  </thead>\n",
       "  <tbody>\n",
       "    <tr>\n",
       "      <th>0</th>\n",
       "      <td>Crops and livestock products</td>\n",
       "      <td>Armenia</td>\n",
       "      <td>Import Quantity</td>\n",
       "      <td>Barley</td>\n",
       "      <td>1386.0</td>\n",
       "      <td>2000-01-01</td>\n",
       "    </tr>\n",
       "    <tr>\n",
       "      <th>1</th>\n",
       "      <td>Crops and livestock products</td>\n",
       "      <td>Armenia</td>\n",
       "      <td>Import Value</td>\n",
       "      <td>Barley</td>\n",
       "      <td>341.0</td>\n",
       "      <td>2000-01-01</td>\n",
       "    </tr>\n",
       "    <tr>\n",
       "      <th>6</th>\n",
       "      <td>Crops and livestock products</td>\n",
       "      <td>Armenia</td>\n",
       "      <td>Import Quantity</td>\n",
       "      <td>Chickens</td>\n",
       "      <td>719.0</td>\n",
       "      <td>2000-01-01</td>\n",
       "    </tr>\n",
       "    <tr>\n",
       "      <th>7</th>\n",
       "      <td>Crops and livestock products</td>\n",
       "      <td>Armenia</td>\n",
       "      <td>Import Value</td>\n",
       "      <td>Chickens</td>\n",
       "      <td>732.0</td>\n",
       "      <td>2000-01-01</td>\n",
       "    </tr>\n",
       "    <tr>\n",
       "      <th>10</th>\n",
       "      <td>Crops and livestock products</td>\n",
       "      <td>Armenia</td>\n",
       "      <td>Import Quantity</td>\n",
       "      <td>Goats</td>\n",
       "      <td>30.0</td>\n",
       "      <td>2000-01-01</td>\n",
       "    </tr>\n",
       "    <tr>\n",
       "      <th>...</th>\n",
       "      <td>...</td>\n",
       "      <td>...</td>\n",
       "      <td>...</td>\n",
       "      <td>...</td>\n",
       "      <td>...</td>\n",
       "      <td>...</td>\n",
       "    </tr>\n",
       "    <tr>\n",
       "      <th>1440</th>\n",
       "      <td>Crops and livestock products</td>\n",
       "      <td>Uzbekistan</td>\n",
       "      <td>Export Value</td>\n",
       "      <td>Swine / pigs</td>\n",
       "      <td>0.0</td>\n",
       "      <td>2020-01-01</td>\n",
       "    </tr>\n",
       "    <tr>\n",
       "      <th>1441</th>\n",
       "      <td>Crops and livestock products</td>\n",
       "      <td>Uzbekistan</td>\n",
       "      <td>Import Quantity</td>\n",
       "      <td>Wheat</td>\n",
       "      <td>2799621.0</td>\n",
       "      <td>2020-01-01</td>\n",
       "    </tr>\n",
       "    <tr>\n",
       "      <th>1442</th>\n",
       "      <td>Crops and livestock products</td>\n",
       "      <td>Uzbekistan</td>\n",
       "      <td>Import Value</td>\n",
       "      <td>Wheat</td>\n",
       "      <td>556494.0</td>\n",
       "      <td>2020-01-01</td>\n",
       "    </tr>\n",
       "    <tr>\n",
       "      <th>1443</th>\n",
       "      <td>Crops and livestock products</td>\n",
       "      <td>Uzbekistan</td>\n",
       "      <td>Export Quantity</td>\n",
       "      <td>Wheat</td>\n",
       "      <td>48212.0</td>\n",
       "      <td>2020-01-01</td>\n",
       "    </tr>\n",
       "    <tr>\n",
       "      <th>1444</th>\n",
       "      <td>Crops and livestock products</td>\n",
       "      <td>Uzbekistan</td>\n",
       "      <td>Export Value</td>\n",
       "      <td>Wheat</td>\n",
       "      <td>10059.0</td>\n",
       "      <td>2020-01-01</td>\n",
       "    </tr>\n",
       "  </tbody>\n",
       "</table>\n",
       "<p>1336 rows × 6 columns</p>\n",
       "</div>"
      ],
      "text/plain": [
       "                            Domain        Area          Element          Item  \\\n",
       "0     Crops and livestock products     Armenia  Import Quantity        Barley   \n",
       "1     Crops and livestock products     Armenia     Import Value        Barley   \n",
       "6     Crops and livestock products     Armenia  Import Quantity      Chickens   \n",
       "7     Crops and livestock products     Armenia     Import Value      Chickens   \n",
       "10    Crops and livestock products     Armenia  Import Quantity         Goats   \n",
       "...                            ...         ...              ...           ...   \n",
       "1440  Crops and livestock products  Uzbekistan     Export Value  Swine / pigs   \n",
       "1441  Crops and livestock products  Uzbekistan  Import Quantity         Wheat   \n",
       "1442  Crops and livestock products  Uzbekistan     Import Value         Wheat   \n",
       "1443  Crops and livestock products  Uzbekistan  Export Quantity         Wheat   \n",
       "1444  Crops and livestock products  Uzbekistan     Export Value         Wheat   \n",
       "\n",
       "          Value       Year  \n",
       "0        1386.0 2000-01-01  \n",
       "1         341.0 2000-01-01  \n",
       "6         719.0 2000-01-01  \n",
       "7         732.0 2000-01-01  \n",
       "10         30.0 2000-01-01  \n",
       "...         ...        ...  \n",
       "1440        0.0 2020-01-01  \n",
       "1441  2799621.0 2020-01-01  \n",
       "1442   556494.0 2020-01-01  \n",
       "1443    48212.0 2020-01-01  \n",
       "1444    10059.0 2020-01-01  \n",
       "\n",
       "[1336 rows x 6 columns]"
      ]
     },
     "execution_count": 970,
     "metadata": {},
     "output_type": "execute_result"
    }
   ],
   "source": [
    "df= df[df[\"Value\"].str.contains(\"unknown\") != True] \n",
    "df"
   ]
  },
  {
   "cell_type": "code",
   "execution_count": 971,
   "id": "6c7dd1df",
   "metadata": {},
   "outputs": [
    {
     "data": {
      "text/plain": [
       "Import Quantity    427\n",
       "Import Value       353\n",
       "Export Quantity    302\n",
       "Export Value       254\n",
       "Name: Element, dtype: int64"
      ]
     },
     "execution_count": 971,
     "metadata": {},
     "output_type": "execute_result"
    }
   ],
   "source": [
    "df['Element'].value_counts()"
   ]
  },
  {
   "cell_type": "code",
   "execution_count": 972,
   "id": "4b42c33f",
   "metadata": {
    "scrolled": true
   },
   "outputs": [
    {
     "data": {
      "text/plain": [
       "Russian Federation            206\n",
       "Kazakhstan                    197\n",
       "Türkiye                       194\n",
       "Iran (Islamic Republic of)    172\n",
       "Georgia                       153\n",
       "Azerbaijan                    140\n",
       "Armenia                       124\n",
       "Uzbekistan                    109\n",
       "Turkmenistan                   41\n",
       "Name: Area, dtype: int64"
      ]
     },
     "execution_count": 972,
     "metadata": {},
     "output_type": "execute_result"
    }
   ],
   "source": [
    "df['Area'].value_counts()"
   ]
  },
  {
   "cell_type": "code",
   "execution_count": null,
   "id": "622c8346",
   "metadata": {},
   "outputs": [],
   "source": []
  },
  {
   "cell_type": "code",
   "execution_count": null,
   "id": "2e245024",
   "metadata": {},
   "outputs": [],
   "source": []
  },
  {
   "cell_type": "code",
   "execution_count": 973,
   "id": "b6fa7ba7",
   "metadata": {},
   "outputs": [],
   "source": [
    "df.head(40) \n",
    "df['Year'] = df['Year'].dt.year \n"
   ]
  },
  {
   "cell_type": "code",
   "execution_count": null,
   "id": "44aec402",
   "metadata": {},
   "outputs": [],
   "source": []
  },
  {
   "cell_type": "code",
   "execution_count": 974,
   "id": "63fac953",
   "metadata": {},
   "outputs": [
    {
     "data": {
      "text/html": [
       "<div>\n",
       "<style scoped>\n",
       "    .dataframe tbody tr th:only-of-type {\n",
       "        vertical-align: middle;\n",
       "    }\n",
       "\n",
       "    .dataframe tbody tr th {\n",
       "        vertical-align: top;\n",
       "    }\n",
       "\n",
       "    .dataframe thead th {\n",
       "        text-align: right;\n",
       "    }\n",
       "</style>\n",
       "<table border=\"1\" class=\"dataframe\">\n",
       "  <thead>\n",
       "    <tr style=\"text-align: right;\">\n",
       "      <th></th>\n",
       "      <th>Domain</th>\n",
       "      <th>Area</th>\n",
       "      <th>Element</th>\n",
       "      <th>Item</th>\n",
       "      <th>Value</th>\n",
       "      <th>Year</th>\n",
       "    </tr>\n",
       "  </thead>\n",
       "  <tbody>\n",
       "    <tr>\n",
       "      <th>100</th>\n",
       "      <td>Crops and livestock products</td>\n",
       "      <td>Iran (Islamic Republic of)</td>\n",
       "      <td>Import Quantity</td>\n",
       "      <td>Barley</td>\n",
       "      <td>1040226.0</td>\n",
       "      <td>2000</td>\n",
       "    </tr>\n",
       "    <tr>\n",
       "      <th>101</th>\n",
       "      <td>Crops and livestock products</td>\n",
       "      <td>Iran (Islamic Republic of)</td>\n",
       "      <td>Import Value</td>\n",
       "      <td>Barley</td>\n",
       "      <td>158366.0</td>\n",
       "      <td>2000</td>\n",
       "    </tr>\n",
       "    <tr>\n",
       "      <th>102</th>\n",
       "      <td>Crops and livestock products</td>\n",
       "      <td>Iran (Islamic Republic of)</td>\n",
       "      <td>Export Quantity</td>\n",
       "      <td>Barley</td>\n",
       "      <td>0.0</td>\n",
       "      <td>2000</td>\n",
       "    </tr>\n",
       "    <tr>\n",
       "      <th>103</th>\n",
       "      <td>Crops and livestock products</td>\n",
       "      <td>Iran (Islamic Republic of)</td>\n",
       "      <td>Export Value</td>\n",
       "      <td>Barley</td>\n",
       "      <td>0.0</td>\n",
       "      <td>2000</td>\n",
       "    </tr>\n",
       "    <tr>\n",
       "      <th>104</th>\n",
       "      <td>Crops and livestock products</td>\n",
       "      <td>Iran (Islamic Republic of)</td>\n",
       "      <td>Import Quantity</td>\n",
       "      <td>Cattle</td>\n",
       "      <td>0.0</td>\n",
       "      <td>2000</td>\n",
       "    </tr>\n",
       "    <tr>\n",
       "      <th>...</th>\n",
       "      <td>...</td>\n",
       "      <td>...</td>\n",
       "      <td>...</td>\n",
       "      <td>...</td>\n",
       "      <td>...</td>\n",
       "      <td>...</td>\n",
       "    </tr>\n",
       "    <tr>\n",
       "      <th>1267</th>\n",
       "      <td>Crops and livestock products</td>\n",
       "      <td>Iran (Islamic Republic of)</td>\n",
       "      <td>Export Quantity</td>\n",
       "      <td>Sheep</td>\n",
       "      <td>322541.0</td>\n",
       "      <td>2020</td>\n",
       "    </tr>\n",
       "    <tr>\n",
       "      <th>1268</th>\n",
       "      <td>Crops and livestock products</td>\n",
       "      <td>Iran (Islamic Republic of)</td>\n",
       "      <td>Export Quantity</td>\n",
       "      <td>Sheep</td>\n",
       "      <td>11682.0</td>\n",
       "      <td>2020</td>\n",
       "    </tr>\n",
       "    <tr>\n",
       "      <th>1269</th>\n",
       "      <td>Crops and livestock products</td>\n",
       "      <td>Iran (Islamic Republic of)</td>\n",
       "      <td>Export Value</td>\n",
       "      <td>Sheep</td>\n",
       "      <td>51439.0</td>\n",
       "      <td>2020</td>\n",
       "    </tr>\n",
       "    <tr>\n",
       "      <th>1270</th>\n",
       "      <td>Crops and livestock products</td>\n",
       "      <td>Iran (Islamic Republic of)</td>\n",
       "      <td>Import Quantity</td>\n",
       "      <td>Wheat</td>\n",
       "      <td>1181588.0</td>\n",
       "      <td>2020</td>\n",
       "    </tr>\n",
       "    <tr>\n",
       "      <th>1271</th>\n",
       "      <td>Crops and livestock products</td>\n",
       "      <td>Iran (Islamic Republic of)</td>\n",
       "      <td>Import Value</td>\n",
       "      <td>Wheat</td>\n",
       "      <td>299287.0</td>\n",
       "      <td>2020</td>\n",
       "    </tr>\n",
       "  </tbody>\n",
       "</table>\n",
       "<p>172 rows × 6 columns</p>\n",
       "</div>"
      ],
      "text/plain": [
       "                            Domain                        Area  \\\n",
       "100   Crops and livestock products  Iran (Islamic Republic of)   \n",
       "101   Crops and livestock products  Iran (Islamic Republic of)   \n",
       "102   Crops and livestock products  Iran (Islamic Republic of)   \n",
       "103   Crops and livestock products  Iran (Islamic Republic of)   \n",
       "104   Crops and livestock products  Iran (Islamic Republic of)   \n",
       "...                            ...                         ...   \n",
       "1267  Crops and livestock products  Iran (Islamic Republic of)   \n",
       "1268  Crops and livestock products  Iran (Islamic Republic of)   \n",
       "1269  Crops and livestock products  Iran (Islamic Republic of)   \n",
       "1270  Crops and livestock products  Iran (Islamic Republic of)   \n",
       "1271  Crops and livestock products  Iran (Islamic Republic of)   \n",
       "\n",
       "              Element    Item      Value  Year  \n",
       "100   Import Quantity  Barley  1040226.0  2000  \n",
       "101      Import Value  Barley   158366.0  2000  \n",
       "102   Export Quantity  Barley        0.0  2000  \n",
       "103      Export Value  Barley        0.0  2000  \n",
       "104   Import Quantity  Cattle        0.0  2000  \n",
       "...               ...     ...        ...   ...  \n",
       "1267  Export Quantity   Sheep   322541.0  2020  \n",
       "1268  Export Quantity   Sheep    11682.0  2020  \n",
       "1269     Export Value   Sheep    51439.0  2020  \n",
       "1270  Import Quantity   Wheat  1181588.0  2020  \n",
       "1271     Import Value   Wheat   299287.0  2020  \n",
       "\n",
       "[172 rows x 6 columns]"
      ]
     },
     "execution_count": 974,
     "metadata": {},
     "output_type": "execute_result"
    }
   ],
   "source": [
    "df[df['Area'] == 'Iran (Islamic Republic of)']"
   ]
  },
  {
   "cell_type": "code",
   "execution_count": 975,
   "id": "8f54f448",
   "metadata": {},
   "outputs": [
    {
     "data": {
      "text/html": [
       "<div>\n",
       "<style scoped>\n",
       "    .dataframe tbody tr th:only-of-type {\n",
       "        vertical-align: middle;\n",
       "    }\n",
       "\n",
       "    .dataframe tbody tr th {\n",
       "        vertical-align: top;\n",
       "    }\n",
       "\n",
       "    .dataframe thead th {\n",
       "        text-align: right;\n",
       "    }\n",
       "</style>\n",
       "<table border=\"1\" class=\"dataframe\">\n",
       "  <thead>\n",
       "    <tr style=\"text-align: right;\">\n",
       "      <th></th>\n",
       "      <th>Domain</th>\n",
       "      <th>Area</th>\n",
       "      <th>Element</th>\n",
       "      <th>Item</th>\n",
       "      <th>Value</th>\n",
       "      <th>Year</th>\n",
       "    </tr>\n",
       "  </thead>\n",
       "  <tbody>\n",
       "    <tr>\n",
       "      <th>0</th>\n",
       "      <td>Crops and livestock products</td>\n",
       "      <td>Armenia</td>\n",
       "      <td>Import Quantity</td>\n",
       "      <td>Barley</td>\n",
       "      <td>1386.0</td>\n",
       "      <td>2000</td>\n",
       "    </tr>\n",
       "    <tr>\n",
       "      <th>1</th>\n",
       "      <td>Crops and livestock products</td>\n",
       "      <td>Armenia</td>\n",
       "      <td>Import Value</td>\n",
       "      <td>Barley</td>\n",
       "      <td>341.0</td>\n",
       "      <td>2000</td>\n",
       "    </tr>\n",
       "    <tr>\n",
       "      <th>6</th>\n",
       "      <td>Crops and livestock products</td>\n",
       "      <td>Armenia</td>\n",
       "      <td>Import Quantity</td>\n",
       "      <td>Chickens</td>\n",
       "      <td>719.0</td>\n",
       "      <td>2000</td>\n",
       "    </tr>\n",
       "    <tr>\n",
       "      <th>7</th>\n",
       "      <td>Crops and livestock products</td>\n",
       "      <td>Armenia</td>\n",
       "      <td>Import Value</td>\n",
       "      <td>Chickens</td>\n",
       "      <td>732.0</td>\n",
       "      <td>2000</td>\n",
       "    </tr>\n",
       "    <tr>\n",
       "      <th>10</th>\n",
       "      <td>Crops and livestock products</td>\n",
       "      <td>Armenia</td>\n",
       "      <td>Import Quantity</td>\n",
       "      <td>Goats</td>\n",
       "      <td>30.0</td>\n",
       "      <td>2000</td>\n",
       "    </tr>\n",
       "    <tr>\n",
       "      <th>...</th>\n",
       "      <td>...</td>\n",
       "      <td>...</td>\n",
       "      <td>...</td>\n",
       "      <td>...</td>\n",
       "      <td>...</td>\n",
       "      <td>...</td>\n",
       "    </tr>\n",
       "    <tr>\n",
       "      <th>1440</th>\n",
       "      <td>Crops and livestock products</td>\n",
       "      <td>Uzbekistan</td>\n",
       "      <td>Export Value</td>\n",
       "      <td>Swine / pigs</td>\n",
       "      <td>0.0</td>\n",
       "      <td>2020</td>\n",
       "    </tr>\n",
       "    <tr>\n",
       "      <th>1441</th>\n",
       "      <td>Crops and livestock products</td>\n",
       "      <td>Uzbekistan</td>\n",
       "      <td>Import Quantity</td>\n",
       "      <td>Wheat</td>\n",
       "      <td>2799621.0</td>\n",
       "      <td>2020</td>\n",
       "    </tr>\n",
       "    <tr>\n",
       "      <th>1442</th>\n",
       "      <td>Crops and livestock products</td>\n",
       "      <td>Uzbekistan</td>\n",
       "      <td>Import Value</td>\n",
       "      <td>Wheat</td>\n",
       "      <td>556494.0</td>\n",
       "      <td>2020</td>\n",
       "    </tr>\n",
       "    <tr>\n",
       "      <th>1443</th>\n",
       "      <td>Crops and livestock products</td>\n",
       "      <td>Uzbekistan</td>\n",
       "      <td>Export Quantity</td>\n",
       "      <td>Wheat</td>\n",
       "      <td>48212.0</td>\n",
       "      <td>2020</td>\n",
       "    </tr>\n",
       "    <tr>\n",
       "      <th>1444</th>\n",
       "      <td>Crops and livestock products</td>\n",
       "      <td>Uzbekistan</td>\n",
       "      <td>Export Value</td>\n",
       "      <td>Wheat</td>\n",
       "      <td>10059.0</td>\n",
       "      <td>2020</td>\n",
       "    </tr>\n",
       "  </tbody>\n",
       "</table>\n",
       "<p>1336 rows × 6 columns</p>\n",
       "</div>"
      ],
      "text/plain": [
       "                            Domain        Area          Element          Item  \\\n",
       "0     Crops and livestock products     Armenia  Import Quantity        Barley   \n",
       "1     Crops and livestock products     Armenia     Import Value        Barley   \n",
       "6     Crops and livestock products     Armenia  Import Quantity      Chickens   \n",
       "7     Crops and livestock products     Armenia     Import Value      Chickens   \n",
       "10    Crops and livestock products     Armenia  Import Quantity         Goats   \n",
       "...                            ...         ...              ...           ...   \n",
       "1440  Crops and livestock products  Uzbekistan     Export Value  Swine / pigs   \n",
       "1441  Crops and livestock products  Uzbekistan  Import Quantity         Wheat   \n",
       "1442  Crops and livestock products  Uzbekistan     Import Value         Wheat   \n",
       "1443  Crops and livestock products  Uzbekistan  Export Quantity         Wheat   \n",
       "1444  Crops and livestock products  Uzbekistan     Export Value         Wheat   \n",
       "\n",
       "          Value  Year  \n",
       "0        1386.0  2000  \n",
       "1         341.0  2000  \n",
       "6         719.0  2000  \n",
       "7         732.0  2000  \n",
       "10         30.0  2000  \n",
       "...         ...   ...  \n",
       "1440        0.0  2020  \n",
       "1441  2799621.0  2020  \n",
       "1442   556494.0  2020  \n",
       "1443    48212.0  2020  \n",
       "1444    10059.0  2020  \n",
       "\n",
       "[1336 rows x 6 columns]"
      ]
     },
     "execution_count": 975,
     "metadata": {},
     "output_type": "execute_result"
    }
   ],
   "source": [
    "df"
   ]
  },
  {
   "cell_type": "code",
   "execution_count": null,
   "id": "2e683079",
   "metadata": {},
   "outputs": [],
   "source": []
  },
  {
   "cell_type": "code",
   "execution_count": 976,
   "id": "9bb522e8",
   "metadata": {},
   "outputs": [],
   "source": [
    " \n",
    "\n",
    "def replace_wrong_names(wrong_names, correct_names):\n",
    "    #for wrong_name in wrong_names:\n",
    "    df['Area'] = df['Area'].replace(wrong_names, correct_names)\n",
    "    df['Item'] = df['Item'].replace(wrong_names, correct_names)\n",
    "\n",
    "duplicates ='Iran (Islamic Republic of)'\n",
    "name = 'Iran'\n",
    "swine_pig = 'Swine / pigs'\n",
    "ren_swin_pig = 'Swine (Pigs)'\n",
    "\n",
    "replace_wrong_names (duplicates, name)\n",
    "replace_wrong_names (swine_pig, ren_swin_pig)"
   ]
  },
  {
   "cell_type": "code",
   "execution_count": null,
   "id": "7f2cdf24",
   "metadata": {},
   "outputs": [],
   "source": []
  },
  {
   "cell_type": "code",
   "execution_count": 977,
   "id": "9c8aafb4",
   "metadata": {},
   "outputs": [],
   "source": [
    "      #  df['Area'] = df['Area'].replace(wrong_name, correct_names)\n",
    "    #duplicates ='Iran (Islamic Republic of)'\n",
    "#name = 'Iran'\n",
    "#replace_wrong_names (duplicates, name)"
   ]
  },
  {
   "cell_type": "code",
   "execution_count": 978,
   "id": "401739ec",
   "metadata": {},
   "outputs": [
    {
     "data": {
      "text/plain": [
       "Chickens        180\n",
       "Cattle          174\n",
       "Wheat           166\n",
       "Sheep           158\n",
       "Barley          140\n",
       "Rice            140\n",
       "Goats           124\n",
       "Oats            110\n",
       "Swine (Pigs)    102\n",
       "Mixed grain      42\n",
       "Name: Item, dtype: int64"
      ]
     },
     "execution_count": 978,
     "metadata": {},
     "output_type": "execute_result"
    }
   ],
   "source": [
    "df['Item'].value_counts()"
   ]
  },
  {
   "cell_type": "code",
   "execution_count": 979,
   "id": "ee5e908a",
   "metadata": {},
   "outputs": [
    {
     "data": {
      "text/html": [
       "<div>\n",
       "<style scoped>\n",
       "    .dataframe tbody tr th:only-of-type {\n",
       "        vertical-align: middle;\n",
       "    }\n",
       "\n",
       "    .dataframe tbody tr th {\n",
       "        vertical-align: top;\n",
       "    }\n",
       "\n",
       "    .dataframe thead th {\n",
       "        text-align: right;\n",
       "    }\n",
       "</style>\n",
       "<table border=\"1\" class=\"dataframe\">\n",
       "  <thead>\n",
       "    <tr style=\"text-align: right;\">\n",
       "      <th></th>\n",
       "      <th>Domain</th>\n",
       "      <th>Area</th>\n",
       "      <th>Element</th>\n",
       "      <th>Item</th>\n",
       "      <th>Value</th>\n",
       "      <th>Year</th>\n",
       "    </tr>\n",
       "  </thead>\n",
       "  <tbody>\n",
       "  </tbody>\n",
       "</table>\n",
       "</div>"
      ],
      "text/plain": [
       "Empty DataFrame\n",
       "Columns: [Domain, Area, Element, Item, Value, Year]\n",
       "Index: []"
      ]
     },
     "execution_count": 979,
     "metadata": {},
     "output_type": "execute_result"
    }
   ],
   "source": [
    "df[df['Area'] == 'Iran (Islamic Republic of)']"
   ]
  },
  {
   "cell_type": "code",
   "execution_count": 980,
   "id": "f6fe9ce5",
   "metadata": {},
   "outputs": [
    {
     "data": {
      "text/plain": [
       "Import Quantity    427\n",
       "Import Value       353\n",
       "Export Quantity    302\n",
       "Export Value       254\n",
       "Name: Element, dtype: int64"
      ]
     },
     "execution_count": 980,
     "metadata": {},
     "output_type": "execute_result"
    }
   ],
   "source": [
    "df['Element'].value_counts()"
   ]
  },
  {
   "cell_type": "code",
   "execution_count": 981,
   "id": "7ad894f9",
   "metadata": {},
   "outputs": [
    {
     "data": {
      "text/plain": [
       "Russian Federation    206\n",
       "Kazakhstan            197\n",
       "Türkiye               194\n",
       "Iran                  172\n",
       "Georgia               153\n",
       "Azerbaijan            140\n",
       "Armenia               124\n",
       "Uzbekistan            109\n",
       "Turkmenistan           41\n",
       "Name: Area, dtype: int64"
      ]
     },
     "execution_count": 981,
     "metadata": {},
     "output_type": "execute_result"
    }
   ],
   "source": [
    "df['Area'].value_counts()"
   ]
  },
  {
   "cell_type": "code",
   "execution_count": null,
   "id": "a66dde3a",
   "metadata": {},
   "outputs": [],
   "source": []
  },
  {
   "cell_type": "code",
   "execution_count": null,
   "id": "3a2e73dc",
   "metadata": {},
   "outputs": [],
   "source": []
  },
  {
   "cell_type": "code",
   "execution_count": null,
   "id": "a01a087c",
   "metadata": {},
   "outputs": [],
   "source": []
  },
  {
   "cell_type": "code",
   "execution_count": 982,
   "id": "26c3c791",
   "metadata": {},
   "outputs": [],
   "source": [
    "#Categorize to 4 Element  \n",
    "\n",
    "df_iq = df.query(\"Element == 'Import Quantity'\")\n",
    "df_iv = df.query(\"Element == 'Import Value'\")\n",
    "df_eq = df.query(\"Element == 'Export Quantity'\")\n",
    "df_ev = df.query(\"Element == 'Export Value'\")\n",
    "#df_ev"
   ]
  },
  {
   "cell_type": "code",
   "execution_count": null,
   "id": "165c25eb",
   "metadata": {},
   "outputs": [],
   "source": []
  },
  {
   "cell_type": "code",
   "execution_count": 983,
   "id": "03e977be",
   "metadata": {},
   "outputs": [
    {
     "data": {
      "text/html": [
       "<div>\n",
       "<style scoped>\n",
       "    .dataframe tbody tr th:only-of-type {\n",
       "        vertical-align: middle;\n",
       "    }\n",
       "\n",
       "    .dataframe tbody tr th {\n",
       "        vertical-align: top;\n",
       "    }\n",
       "\n",
       "    .dataframe thead th {\n",
       "        text-align: right;\n",
       "    }\n",
       "</style>\n",
       "<table border=\"1\" class=\"dataframe\">\n",
       "  <thead>\n",
       "    <tr style=\"text-align: right;\">\n",
       "      <th></th>\n",
       "      <th>Domain</th>\n",
       "      <th>Area</th>\n",
       "      <th>Element</th>\n",
       "      <th>Item</th>\n",
       "      <th>Value</th>\n",
       "      <th>Year</th>\n",
       "    </tr>\n",
       "  </thead>\n",
       "  <tbody>\n",
       "    <tr>\n",
       "      <th>1420</th>\n",
       "      <td>Crops and livestock products</td>\n",
       "      <td>Uzbekistan</td>\n",
       "      <td>Import Quantity</td>\n",
       "      <td>Cattle</td>\n",
       "      <td>0.0</td>\n",
       "      <td>2020</td>\n",
       "    </tr>\n",
       "    <tr>\n",
       "      <th>1422</th>\n",
       "      <td>Crops and livestock products</td>\n",
       "      <td>Uzbekistan</td>\n",
       "      <td>Import Quantity</td>\n",
       "      <td>Chickens</td>\n",
       "      <td>2182.0</td>\n",
       "      <td>2020</td>\n",
       "    </tr>\n",
       "    <tr>\n",
       "      <th>1423</th>\n",
       "      <td>Crops and livestock products</td>\n",
       "      <td>Uzbekistan</td>\n",
       "      <td>Import Quantity</td>\n",
       "      <td>Chickens</td>\n",
       "      <td>0.0</td>\n",
       "      <td>2020</td>\n",
       "    </tr>\n",
       "    <tr>\n",
       "      <th>1428</th>\n",
       "      <td>Crops and livestock products</td>\n",
       "      <td>Uzbekistan</td>\n",
       "      <td>Import Quantity</td>\n",
       "      <td>Goats</td>\n",
       "      <td>3683.0</td>\n",
       "      <td>2020</td>\n",
       "    </tr>\n",
       "    <tr>\n",
       "      <th>1429</th>\n",
       "      <td>Crops and livestock products</td>\n",
       "      <td>Uzbekistan</td>\n",
       "      <td>Import Quantity</td>\n",
       "      <td>Goats</td>\n",
       "      <td>0.0</td>\n",
       "      <td>2020</td>\n",
       "    </tr>\n",
       "    <tr>\n",
       "      <th>1431</th>\n",
       "      <td>Crops and livestock products</td>\n",
       "      <td>Uzbekistan</td>\n",
       "      <td>Import Quantity</td>\n",
       "      <td>Oats</td>\n",
       "      <td>1740.0</td>\n",
       "      <td>2020</td>\n",
       "    </tr>\n",
       "    <tr>\n",
       "      <th>1433</th>\n",
       "      <td>Crops and livestock products</td>\n",
       "      <td>Uzbekistan</td>\n",
       "      <td>Import Quantity</td>\n",
       "      <td>Rice</td>\n",
       "      <td>1726.0</td>\n",
       "      <td>2020</td>\n",
       "    </tr>\n",
       "    <tr>\n",
       "      <th>1435</th>\n",
       "      <td>Crops and livestock products</td>\n",
       "      <td>Uzbekistan</td>\n",
       "      <td>Import Quantity</td>\n",
       "      <td>Sheep</td>\n",
       "      <td>37121.0</td>\n",
       "      <td>2020</td>\n",
       "    </tr>\n",
       "    <tr>\n",
       "      <th>1436</th>\n",
       "      <td>Crops and livestock products</td>\n",
       "      <td>Uzbekistan</td>\n",
       "      <td>Import Quantity</td>\n",
       "      <td>Sheep</td>\n",
       "      <td>0.0</td>\n",
       "      <td>2020</td>\n",
       "    </tr>\n",
       "    <tr>\n",
       "      <th>1441</th>\n",
       "      <td>Crops and livestock products</td>\n",
       "      <td>Uzbekistan</td>\n",
       "      <td>Import Quantity</td>\n",
       "      <td>Wheat</td>\n",
       "      <td>2799621.0</td>\n",
       "      <td>2020</td>\n",
       "    </tr>\n",
       "  </tbody>\n",
       "</table>\n",
       "</div>"
      ],
      "text/plain": [
       "                            Domain        Area          Element      Item  \\\n",
       "1420  Crops and livestock products  Uzbekistan  Import Quantity    Cattle   \n",
       "1422  Crops and livestock products  Uzbekistan  Import Quantity  Chickens   \n",
       "1423  Crops and livestock products  Uzbekistan  Import Quantity  Chickens   \n",
       "1428  Crops and livestock products  Uzbekistan  Import Quantity     Goats   \n",
       "1429  Crops and livestock products  Uzbekistan  Import Quantity     Goats   \n",
       "1431  Crops and livestock products  Uzbekistan  Import Quantity      Oats   \n",
       "1433  Crops and livestock products  Uzbekistan  Import Quantity      Rice   \n",
       "1435  Crops and livestock products  Uzbekistan  Import Quantity     Sheep   \n",
       "1436  Crops and livestock products  Uzbekistan  Import Quantity     Sheep   \n",
       "1441  Crops and livestock products  Uzbekistan  Import Quantity     Wheat   \n",
       "\n",
       "          Value  Year  \n",
       "1420        0.0  2020  \n",
       "1422     2182.0  2020  \n",
       "1423        0.0  2020  \n",
       "1428     3683.0  2020  \n",
       "1429        0.0  2020  \n",
       "1431     1740.0  2020  \n",
       "1433     1726.0  2020  \n",
       "1435    37121.0  2020  \n",
       "1436        0.0  2020  \n",
       "1441  2799621.0  2020  "
      ]
     },
     "execution_count": 983,
     "metadata": {},
     "output_type": "execute_result"
    }
   ],
   "source": [
    "df_iq.tail(10)\n"
   ]
  },
  {
   "cell_type": "code",
   "execution_count": null,
   "id": "4a5361e0",
   "metadata": {},
   "outputs": [],
   "source": []
  },
  {
   "cell_type": "code",
   "execution_count": 984,
   "id": "42f99e95",
   "metadata": {},
   "outputs": [
    {
     "data": {
      "text/plain": [
       "dtype('O')"
      ]
     },
     "execution_count": 984,
     "metadata": {},
     "output_type": "execute_result"
    }
   ],
   "source": [
    " df['Item'].dtype"
   ]
  },
  {
   "cell_type": "code",
   "execution_count": 985,
   "id": "eb2e0685",
   "metadata": {},
   "outputs": [
    {
     "data": {
      "text/plain": [
       "Item\n",
       "Wheat     190162351.0\n",
       "Barley     29898465.0\n",
       "Sheep       6200982.0\n",
       "Goats       5192177.0\n",
       "Cattle      3985656.0\n",
       "Rice        2040447.0\n",
       "Name: Value, dtype: object"
      ]
     },
     "execution_count": 985,
     "metadata": {},
     "output_type": "execute_result"
    }
   ],
   "source": [
    "df_iq_total = df.groupby(['Item'])['Value'].sum().sort_values(ascending = False)\n",
    "df_iq_total = df_iq_total.head(6)\n",
    "df_iq_total"
   ]
  },
  {
   "cell_type": "code",
   "execution_count": 986,
   "id": "94d12bd0",
   "metadata": {},
   "outputs": [
    {
     "data": {
      "text/plain": [
       "Item\n",
       "Wheat     190162351.0\n",
       "Barley     29898465.0\n",
       "Sheep       6200982.0\n",
       "Goats       5192177.0\n",
       "Cattle      3985656.0\n",
       "Rice        2040447.0\n",
       "Name: Value, dtype: object"
      ]
     },
     "execution_count": 986,
     "metadata": {},
     "output_type": "execute_result"
    }
   ],
   "source": [
    "df_iq_total "
   ]
  },
  {
   "cell_type": "code",
   "execution_count": 987,
   "id": "1911de17",
   "metadata": {},
   "outputs": [
    {
     "data": {
      "text/plain": [
       "array([190162351.0, 29898465.0, 6200982.0, 5192177.0, 3985656.0,\n",
       "       2040447.0], dtype=object)"
      ]
     },
     "execution_count": 987,
     "metadata": {},
     "output_type": "execute_result"
    }
   ],
   "source": [
    "df_iq_tot = df_iq_total.values\n",
    "df_iq_tot\n",
    " "
   ]
  },
  {
   "cell_type": "code",
   "execution_count": null,
   "id": "a7550a4b",
   "metadata": {},
   "outputs": [],
   "source": []
  },
  {
   "cell_type": "code",
   "execution_count": null,
   "id": "a3b161cd",
   "metadata": {},
   "outputs": [],
   "source": []
  },
  {
   "cell_type": "code",
   "execution_count": 988,
   "id": "f7db23d7",
   "metadata": {},
   "outputs": [
    {
     "data": {
      "image/png": "[encoded data removed]",
      "text/plain": [
       "<Figure size 800x400 with 1 Axes>"
      ]
     },
     "metadata": {},
     "output_type": "display_data"
    }
   ],
   "source": [
    "#Label = df_iq_total.index[0:7]\n",
    "explode_list = [0, 0, 0, 0.1, 0.2, 0.3]\n",
    "df_iq_total.plot(kind='pie', \n",
    "                 labels =None, \n",
    "                 figsize = (8,4),  \n",
    "                 autopct='%1.1f%%',\n",
    "                 explode = explode_list,\n",
    "                 startangle=90, pctdistance=1.12)\n",
    "\n",
    "plt.title('Total import quantity of all products', y=1.12)\n",
    "\n",
    "plt.axis('equal')\n",
    "#plt.ylabel(' ')\n",
    " \n",
    "plt.legend(labels=df_iq_total.index, loc='upper left')\n",
    "plt.show()"
   ]
  },
  {
   "cell_type": "code",
   "execution_count": null,
   "id": "a852c47f",
   "metadata": {},
   "outputs": [],
   "source": []
  },
  {
   "cell_type": "code",
   "execution_count": null,
   "id": "753e7778",
   "metadata": {},
   "outputs": [],
   "source": []
  },
  {
   "cell_type": "code",
   "execution_count": 989,
   "id": "958cac96",
   "metadata": {},
   "outputs": [
    {
     "data": {
      "text/html": [
       "<div>\n",
       "<style scoped>\n",
       "    .dataframe tbody tr th:only-of-type {\n",
       "        vertical-align: middle;\n",
       "    }\n",
       "\n",
       "    .dataframe tbody tr th {\n",
       "        vertical-align: top;\n",
       "    }\n",
       "\n",
       "    .dataframe thead th {\n",
       "        text-align: right;\n",
       "    }\n",
       "</style>\n",
       "<table border=\"1\" class=\"dataframe\">\n",
       "  <thead>\n",
       "    <tr style=\"text-align: right;\">\n",
       "      <th>Year</th>\n",
       "      <th>2000</th>\n",
       "      <th>2005</th>\n",
       "      <th>2010</th>\n",
       "      <th>2015</th>\n",
       "      <th>2020</th>\n",
       "    </tr>\n",
       "    <tr>\n",
       "      <th>Area</th>\n",
       "      <th></th>\n",
       "      <th></th>\n",
       "      <th></th>\n",
       "      <th></th>\n",
       "      <th></th>\n",
       "    </tr>\n",
       "  </thead>\n",
       "  <tbody>\n",
       "    <tr>\n",
       "      <th>Armenia</th>\n",
       "      <td>63360.666667</td>\n",
       "      <td>40281.000000</td>\n",
       "      <td>41659.111111</td>\n",
       "      <td>35262.777778</td>\n",
       "      <td>27162.500000</td>\n",
       "    </tr>\n",
       "    <tr>\n",
       "      <th>Azerbaijan</th>\n",
       "      <td>103185.857143</td>\n",
       "      <td>100560.900000</td>\n",
       "      <td>140500.200000</td>\n",
       "      <td>122919.692308</td>\n",
       "      <td>138565.916667</td>\n",
       "    </tr>\n",
       "    <tr>\n",
       "      <th>Georgia</th>\n",
       "      <td>119721.857143</td>\n",
       "      <td>111302.571429</td>\n",
       "      <td>80526.555556</td>\n",
       "      <td>43905.571429</td>\n",
       "      <td>52208.333333</td>\n",
       "    </tr>\n",
       "    <tr>\n",
       "      <th>Iran</th>\n",
       "      <td>952769.750000</td>\n",
       "      <td>151584.125000</td>\n",
       "      <td>246318.777778</td>\n",
       "      <td>414868.833333</td>\n",
       "      <td>183064.090909</td>\n",
       "    </tr>\n",
       "    <tr>\n",
       "      <th>Kazakhstan</th>\n",
       "      <td>756.555556</td>\n",
       "      <td>3662.900000</td>\n",
       "      <td>254422.200000</td>\n",
       "      <td>7435.857143</td>\n",
       "      <td>52471.428571</td>\n",
       "    </tr>\n",
       "    <tr>\n",
       "      <th>Russian Federation</th>\n",
       "      <td>370078.555556</td>\n",
       "      <td>94707.400000</td>\n",
       "      <td>94472.000000</td>\n",
       "      <td>46450.142857</td>\n",
       "      <td>28674.642857</td>\n",
       "    </tr>\n",
       "    <tr>\n",
       "      <th>Turkmenistan</th>\n",
       "      <td>1610.000000</td>\n",
       "      <td>0.000000</td>\n",
       "      <td>175000.000000</td>\n",
       "      <td>144.333333</td>\n",
       "      <td>8118.555556</td>\n",
       "    </tr>\n",
       "    <tr>\n",
       "      <th>Türkiye</th>\n",
       "      <td>131118.100000</td>\n",
       "      <td>30054.100000</td>\n",
       "      <td>339882.600000</td>\n",
       "      <td>418136.833333</td>\n",
       "      <td>953695.833333</td>\n",
       "    </tr>\n",
       "    <tr>\n",
       "      <th>Uzbekistan</th>\n",
       "      <td>82868.285714</td>\n",
       "      <td>13928.333333</td>\n",
       "      <td>60889.000000</td>\n",
       "      <td>116864.083333</td>\n",
       "      <td>248273.083333</td>\n",
       "    </tr>\n",
       "  </tbody>\n",
       "</table>\n",
       "</div>"
      ],
      "text/plain": [
       "Year                         2000           2005           2010  \\\n",
       "Area                                                              \n",
       "Armenia              63360.666667   40281.000000   41659.111111   \n",
       "Azerbaijan          103185.857143  100560.900000  140500.200000   \n",
       "Georgia             119721.857143  111302.571429   80526.555556   \n",
       "Iran                952769.750000  151584.125000  246318.777778   \n",
       "Kazakhstan             756.555556    3662.900000  254422.200000   \n",
       "Russian Federation  370078.555556   94707.400000   94472.000000   \n",
       "Turkmenistan          1610.000000       0.000000  175000.000000   \n",
       "Türkiye             131118.100000   30054.100000  339882.600000   \n",
       "Uzbekistan           82868.285714   13928.333333   60889.000000   \n",
       "\n",
       "Year                         2015           2020  \n",
       "Area                                              \n",
       "Armenia              35262.777778   27162.500000  \n",
       "Azerbaijan          122919.692308  138565.916667  \n",
       "Georgia              43905.571429   52208.333333  \n",
       "Iran                414868.833333  183064.090909  \n",
       "Kazakhstan            7435.857143   52471.428571  \n",
       "Russian Federation   46450.142857   28674.642857  \n",
       "Turkmenistan           144.333333    8118.555556  \n",
       "Türkiye             418136.833333  953695.833333  \n",
       "Uzbekistan          116864.083333  248273.083333  "
      ]
     },
     "execution_count": 989,
     "metadata": {},
     "output_type": "execute_result"
    }
   ],
   "source": [
    "#Let's count the total import quantity of all countries by years \n",
    "val_year = df_iq.pivot_table(index = 'Area', columns = 'Year', values = 'Value')\n",
    "val_year"
   ]
  },
  {
   "cell_type": "code",
   "execution_count": null,
   "id": "3029e83d",
   "metadata": {},
   "outputs": [],
   "source": []
  },
  {
   "cell_type": "code",
   "execution_count": 990,
   "id": "ac4c6ec4",
   "metadata": {},
   "outputs": [
    {
     "data": {
      "text/plain": [
       "Int64Index([2000, 2005, 2010, 2015, 2020], dtype='int64', name='Year')"
      ]
     },
     "execution_count": 990,
     "metadata": {},
     "output_type": "execute_result"
    }
   ],
   "source": [
    "val_year =  np.round(val_year,2).astype(str) \n",
    "val_year.columns\n",
    "\n"
   ]
  },
  {
   "cell_type": "code",
   "execution_count": null,
   "id": "51239cce",
   "metadata": {},
   "outputs": [],
   "source": [
    " "
   ]
  },
  {
   "cell_type": "code",
   "execution_count": 991,
   "id": "92f13dc2",
   "metadata": {},
   "outputs": [
    {
     "data": {
      "text/html": [
       "<style type=\"text/css\">\n",
       "#T_5195e caption {\n",
       "  color: red;\n",
       "  text-align: right;\n",
       "  font-size: 16px;\n",
       "  margin-bottom: 30px;\n",
       "}\n",
       "</style>\n",
       "<table id=\"T_5195e\">\n",
       "  <caption>The total Value of import quantity by years</caption>\n",
       "  <thead>\n",
       "    <tr>\n",
       "      <th class=\"index_name level0\" >Year</th>\n",
       "      <th id=\"T_5195e_level0_col0\" class=\"col_heading level0 col0\" >2000</th>\n",
       "      <th id=\"T_5195e_level0_col1\" class=\"col_heading level0 col1\" >2005</th>\n",
       "      <th id=\"T_5195e_level0_col2\" class=\"col_heading level0 col2\" >2010</th>\n",
       "      <th id=\"T_5195e_level0_col3\" class=\"col_heading level0 col3\" >2015</th>\n",
       "      <th id=\"T_5195e_level0_col4\" class=\"col_heading level0 col4\" >2020</th>\n",
       "    </tr>\n",
       "    <tr>\n",
       "      <th class=\"index_name level0\" >Area</th>\n",
       "      <th class=\"blank col0\" >&nbsp;</th>\n",
       "      <th class=\"blank col1\" >&nbsp;</th>\n",
       "      <th class=\"blank col2\" >&nbsp;</th>\n",
       "      <th class=\"blank col3\" >&nbsp;</th>\n",
       "      <th class=\"blank col4\" >&nbsp;</th>\n",
       "    </tr>\n",
       "  </thead>\n",
       "  <tbody>\n",
       "    <tr>\n",
       "      <th id=\"T_5195e_level0_row0\" class=\"row_heading level0 row0\" >Armenia</th>\n",
       "      <td id=\"T_5195e_row0_col0\" class=\"data row0 col0\" >63360.67</td>\n",
       "      <td id=\"T_5195e_row0_col1\" class=\"data row0 col1\" >40281.0</td>\n",
       "      <td id=\"T_5195e_row0_col2\" class=\"data row0 col2\" >41659.11</td>\n",
       "      <td id=\"T_5195e_row0_col3\" class=\"data row0 col3\" >35262.78</td>\n",
       "      <td id=\"T_5195e_row0_col4\" class=\"data row0 col4\" >27162.5</td>\n",
       "    </tr>\n",
       "    <tr>\n",
       "      <th id=\"T_5195e_level0_row1\" class=\"row_heading level0 row1\" >Azerbaijan</th>\n",
       "      <td id=\"T_5195e_row1_col0\" class=\"data row1 col0\" >103185.86</td>\n",
       "      <td id=\"T_5195e_row1_col1\" class=\"data row1 col1\" >100560.9</td>\n",
       "      <td id=\"T_5195e_row1_col2\" class=\"data row1 col2\" >140500.2</td>\n",
       "      <td id=\"T_5195e_row1_col3\" class=\"data row1 col3\" >122919.69</td>\n",
       "      <td id=\"T_5195e_row1_col4\" class=\"data row1 col4\" >138565.92</td>\n",
       "    </tr>\n",
       "    <tr>\n",
       "      <th id=\"T_5195e_level0_row2\" class=\"row_heading level0 row2\" >Georgia</th>\n",
       "      <td id=\"T_5195e_row2_col0\" class=\"data row2 col0\" >119721.86</td>\n",
       "      <td id=\"T_5195e_row2_col1\" class=\"data row2 col1\" >111302.57</td>\n",
       "      <td id=\"T_5195e_row2_col2\" class=\"data row2 col2\" >80526.56</td>\n",
       "      <td id=\"T_5195e_row2_col3\" class=\"data row2 col3\" >43905.57</td>\n",
       "      <td id=\"T_5195e_row2_col4\" class=\"data row2 col4\" >52208.33</td>\n",
       "    </tr>\n",
       "    <tr>\n",
       "      <th id=\"T_5195e_level0_row3\" class=\"row_heading level0 row3\" >Iran</th>\n",
       "      <td id=\"T_5195e_row3_col0\" class=\"data row3 col0\" >952769.75</td>\n",
       "      <td id=\"T_5195e_row3_col1\" class=\"data row3 col1\" >151584.12</td>\n",
       "      <td id=\"T_5195e_row3_col2\" class=\"data row3 col2\" >246318.78</td>\n",
       "      <td id=\"T_5195e_row3_col3\" class=\"data row3 col3\" >414868.83</td>\n",
       "      <td id=\"T_5195e_row3_col4\" class=\"data row3 col4\" >183064.09</td>\n",
       "    </tr>\n",
       "    <tr>\n",
       "      <th id=\"T_5195e_level0_row4\" class=\"row_heading level0 row4\" >Kazakhstan</th>\n",
       "      <td id=\"T_5195e_row4_col0\" class=\"data row4 col0\" >756.56</td>\n",
       "      <td id=\"T_5195e_row4_col1\" class=\"data row4 col1\" >3662.9</td>\n",
       "      <td id=\"T_5195e_row4_col2\" class=\"data row4 col2\" >254422.2</td>\n",
       "      <td id=\"T_5195e_row4_col3\" class=\"data row4 col3\" >7435.86</td>\n",
       "      <td id=\"T_5195e_row4_col4\" class=\"data row4 col4\" >52471.43</td>\n",
       "    </tr>\n",
       "    <tr>\n",
       "      <th id=\"T_5195e_level0_row5\" class=\"row_heading level0 row5\" >Russian Federation</th>\n",
       "      <td id=\"T_5195e_row5_col0\" class=\"data row5 col0\" >370078.56</td>\n",
       "      <td id=\"T_5195e_row5_col1\" class=\"data row5 col1\" >94707.4</td>\n",
       "      <td id=\"T_5195e_row5_col2\" class=\"data row5 col2\" >94472.0</td>\n",
       "      <td id=\"T_5195e_row5_col3\" class=\"data row5 col3\" >46450.14</td>\n",
       "      <td id=\"T_5195e_row5_col4\" class=\"data row5 col4\" >28674.64</td>\n",
       "    </tr>\n",
       "    <tr>\n",
       "      <th id=\"T_5195e_level0_row6\" class=\"row_heading level0 row6\" >Turkmenistan</th>\n",
       "      <td id=\"T_5195e_row6_col0\" class=\"data row6 col0\" >1610.0</td>\n",
       "      <td id=\"T_5195e_row6_col1\" class=\"data row6 col1\" >0.0</td>\n",
       "      <td id=\"T_5195e_row6_col2\" class=\"data row6 col2\" >175000.0</td>\n",
       "      <td id=\"T_5195e_row6_col3\" class=\"data row6 col3\" >144.33</td>\n",
       "      <td id=\"T_5195e_row6_col4\" class=\"data row6 col4\" >8118.56</td>\n",
       "    </tr>\n",
       "    <tr>\n",
       "      <th id=\"T_5195e_level0_row7\" class=\"row_heading level0 row7\" >Türkiye</th>\n",
       "      <td id=\"T_5195e_row7_col0\" class=\"data row7 col0\" >131118.1</td>\n",
       "      <td id=\"T_5195e_row7_col1\" class=\"data row7 col1\" >30054.1</td>\n",
       "      <td id=\"T_5195e_row7_col2\" class=\"data row7 col2\" >339882.6</td>\n",
       "      <td id=\"T_5195e_row7_col3\" class=\"data row7 col3\" >418136.83</td>\n",
       "      <td id=\"T_5195e_row7_col4\" class=\"data row7 col4\" >953695.83</td>\n",
       "    </tr>\n",
       "    <tr>\n",
       "      <th id=\"T_5195e_level0_row8\" class=\"row_heading level0 row8\" >Uzbekistan</th>\n",
       "      <td id=\"T_5195e_row8_col0\" class=\"data row8 col0\" >82868.29</td>\n",
       "      <td id=\"T_5195e_row8_col1\" class=\"data row8 col1\" >13928.33</td>\n",
       "      <td id=\"T_5195e_row8_col2\" class=\"data row8 col2\" >60889.0</td>\n",
       "      <td id=\"T_5195e_row8_col3\" class=\"data row8 col3\" >116864.08</td>\n",
       "      <td id=\"T_5195e_row8_col4\" class=\"data row8 col4\" >248273.08</td>\n",
       "    </tr>\n",
       "  </tbody>\n",
       "</table>\n"
      ],
      "text/plain": [
       "<pandas.io.formats.style.Styler at 0x9d63f89d80>"
      ]
     },
     "execution_count": 991,
     "metadata": {},
     "output_type": "execute_result"
    }
   ],
   "source": [
    "val_year.sort_values( by=[2020], ascending = False)\n",
    "Styles = [dict(selector = \"caption\", \n",
    "           props = [(\"color\", \"red\"), \n",
    "                    (\"text-align\", \"right\"),\n",
    "                    ('font-size', '16px'), \n",
    "                    ('margin-bottom', '30px')])]\n",
    "\n",
    "val_year = val_year.style.set_caption(\"The total Value of import quantity by years\").set_table_styles(Styles)\n",
    "val_year"
   ]
  },
  {
   "cell_type": "code",
   "execution_count": 994,
   "id": "8a411b64",
   "metadata": {},
   "outputs": [
    {
     "data": {
      "text/plain": [
       "Index(['Area', 2000, 2005, 2010, 2015, 2020], dtype='object', name='Year')"
      ]
     },
     "execution_count": 994,
     "metadata": {},
     "output_type": "execute_result"
    }
   ],
   "source": [
    "#;ets convert the pivot table to the dataframe and plot it \n",
    "#val_year_az = val_year.sort_values( by=[2020], ascending = False) \n",
    "val_year_az = val_year_az.reset_index()\n",
    "pl_az = val_year_az[val_year_az['Area'] == 'Azerbaijan']\n",
    "pl_az.columns[1:]"
   ]
  },
  {
   "cell_type": "code",
   "execution_count": null,
   "id": "8b112b16",
   "metadata": {},
   "outputs": [],
   "source": []
  },
  {
   "cell_type": "code",
   "execution_count": 993,
   "id": "27fb00b4",
   "metadata": {},
   "outputs": [
    {
     "data": {
      "text/plain": [
       "Index([2000, 2005, 2010, 2015, 2020], dtype='object', name='Year')"
      ]
     },
     "execution_count": 993,
     "metadata": {},
     "output_type": "execute_result"
    }
   ],
   "source": [
    "pl_az.columns[1:]"
   ]
  },
  {
   "cell_type": "code",
   "execution_count": null,
   "id": "829d0294",
   "metadata": {},
   "outputs": [],
   "source": []
  },
  {
   "cell_type": "code",
   "execution_count": 587,
   "id": "20cc27fe",
   "metadata": {},
   "outputs": [],
   "source": [
    "#for col in pl_az.columns[1:]:\n",
    "    #pl_az[col] = pl_az[col].astype(str)\n",
    "    \n",
    "    "
   ]
  },
  {
   "cell_type": "code",
   "execution_count": 729,
   "id": "bfdfe840",
   "metadata": {},
   "outputs": [
    {
     "data": {
      "text/plain": [
       "Year\n",
       "Area     object\n",
       "2000    float64\n",
       "2005    float64\n",
       "2010    float64\n",
       "2015    float64\n",
       "2020    float64\n",
       "dtype: object"
      ]
     },
     "execution_count": 729,
     "metadata": {},
     "output_type": "execute_result"
    }
   ],
   "source": [
    "pl_az.dtypes"
   ]
  },
  {
   "cell_type": "code",
   "execution_count": 730,
   "id": "98b60faf",
   "metadata": {},
   "outputs": [
    {
     "data": {
      "text/html": [
       "<div>\n",
       "<style scoped>\n",
       "    .dataframe tbody tr th:only-of-type {\n",
       "        vertical-align: middle;\n",
       "    }\n",
       "\n",
       "    .dataframe tbody tr th {\n",
       "        vertical-align: top;\n",
       "    }\n",
       "\n",
       "    .dataframe thead th {\n",
       "        text-align: right;\n",
       "    }\n",
       "</style>\n",
       "<table border=\"1\" class=\"dataframe\">\n",
       "  <thead>\n",
       "    <tr style=\"text-align: right;\">\n",
       "      <th>Year</th>\n",
       "      <th>Area</th>\n",
       "      <th>2000</th>\n",
       "      <th>2005</th>\n",
       "      <th>2010</th>\n",
       "      <th>2015</th>\n",
       "      <th>2020</th>\n",
       "    </tr>\n",
       "  </thead>\n",
       "  <tbody>\n",
       "    <tr>\n",
       "      <th>3</th>\n",
       "      <td>Azerbaijan</td>\n",
       "      <td>103185.857</td>\n",
       "      <td>100560.9</td>\n",
       "      <td>140500.2</td>\n",
       "      <td>122919.692</td>\n",
       "      <td>138565.917</td>\n",
       "    </tr>\n",
       "  </tbody>\n",
       "</table>\n",
       "</div>"
      ],
      "text/plain": [
       "Year        Area        2000      2005      2010        2015        2020\n",
       "3     Azerbaijan  103185.857  100560.9  140500.2  122919.692  138565.917"
      ]
     },
     "execution_count": 730,
     "metadata": {},
     "output_type": "execute_result"
    }
   ],
   "source": [
    "pl_az"
   ]
  },
  {
   "cell_type": "code",
   "execution_count": 731,
   "id": "b72341eb",
   "metadata": {},
   "outputs": [
    {
     "data": {
      "image/png": "[encoded data removed]",
      "text/plain": [
       "<Figure size 640x480 with 1 Axes>"
      ]
     },
     "metadata": {},
     "output_type": "display_data"
    }
   ],
   "source": [
    "pl_az.plot(kind='bar')\n",
    "plt.xticks([0] ,['Years'], rotation=45)\n",
    "plt.show()"
   ]
  },
  {
   "cell_type": "code",
   "execution_count": 732,
   "id": "8c835905",
   "metadata": {},
   "outputs": [
    {
     "data": {
      "text/plain": [
       "Int64Index([2000, 2005, 2010, 2015, 2020], dtype='int64', name='Year')"
      ]
     },
     "execution_count": 732,
     "metadata": {},
     "output_type": "execute_result"
    }
   ],
   "source": [
    "val_year.columns "
   ]
  },
  {
   "cell_type": "code",
   "execution_count": null,
   "id": "63fbe4ec",
   "metadata": {},
   "outputs": [],
   "source": []
  },
  {
   "cell_type": "code",
   "execution_count": null,
   "id": "04c13bf3",
   "metadata": {},
   "outputs": [],
   "source": [
    " "
   ]
  },
  {
   "cell_type": "code",
   "execution_count": null,
   "id": "6856faeb",
   "metadata": {},
   "outputs": [],
   "source": []
  },
  {
   "cell_type": "code",
   "execution_count": null,
   "id": "53cb747a",
   "metadata": {},
   "outputs": [],
   "source": []
  },
  {
   "cell_type": "code",
   "execution_count": 733,
   "id": "48339e36",
   "metadata": {},
   "outputs": [
    {
     "data": {
      "text/plain": [
       "Year\n",
       "2000    float64\n",
       "2005    float64\n",
       "2010    float64\n",
       "2015    float64\n",
       "2020    float64\n",
       "dtype: object"
      ]
     },
     "execution_count": 733,
     "metadata": {},
     "output_type": "execute_result"
    }
   ],
   "source": [
    "val_year.dtypes "
   ]
  },
  {
   "cell_type": "code",
   "execution_count": 734,
   "id": "33aa7a28",
   "metadata": {},
   "outputs": [],
   "source": [
    "# drive_wheels_counts.rename(columns = {'drive-wheels': 'value_counts'}, inplace = True)"
   ]
  },
  {
   "cell_type": "code",
   "execution_count": 735,
   "id": "92f817f9",
   "metadata": {},
   "outputs": [
    {
     "data": {
      "text/plain": [
       "'Azerbaijan'"
      ]
     },
     "execution_count": 735,
     "metadata": {},
     "output_type": "execute_result"
    }
   ],
   "source": [
    "val_year.index[1]"
   ]
  },
  {
   "cell_type": "code",
   "execution_count": 736,
   "id": "7cdbd1af",
   "metadata": {},
   "outputs": [
    {
     "data": {
      "image/png": "[encoded data removed]",
      "text/plain": [
       "<Figure size 800x700 with 1 Axes>"
      ]
     },
     "metadata": {},
     "output_type": "display_data"
    }
   ],
   "source": [
    " \n",
    "#x = np.arange(100000, 900000, 100000)\n",
    "val_year.plot.barh(figsize=(8,7),   \n",
    "             alpha=1,\n",
    "             xlabel='Countries', ylabel='Values')\n",
    "plt.title('The total Value of import quantity by years')\n",
    "plt.xlabel(\"Value\")\n",
    "plt.ylabel(\"Countries\")\n",
    "#plt.xticks(bins)\n",
    " \n",
    "\n",
    "plt.xticks(np.arange(100000, 1000000, 100000))\n",
    "plt.show()"
   ]
  },
  {
   "cell_type": "code",
   "execution_count": null,
   "id": "16772c78",
   "metadata": {},
   "outputs": [],
   "source": []
  },
  {
   "cell_type": "markdown",
   "id": "7ba12346",
   "metadata": {},
   "source": [
    "# I analyzed all the data related to \"Import Quantity\". The queries below have identical wording and there is no need to work on similar features again\n",
    "\n",
    "df_iv = df.query(\"Element == 'Import Value'\")\n",
    "df_eq = df.query(\"Element == 'Export Quantity'\")\n",
    "df_ev = df.query(\"Element == 'Export Value'\"\n",
    "\n"
   ]
  }
 ],
 "metadata": {
  "kernelspec": {
   "display_name": "Python 3 (ipykernel)",
   "language": "python",
   "name": "python3"
  },
  "language_info": {
   "codemirror_mode": {
    "name": "ipython",
    "version": 3
   },
   "file_extension": ".py",
   "mimetype": "text/x-python",
   "name": "python",
   "nbconvert_exporter": "python",
   "pygments_lexer": "ipython3",
   "version": "3.10.6"
  }
 },
 "nbformat": 4,
 "nbformat_minor": 5
}
