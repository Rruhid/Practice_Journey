{
 "cells": [
  {
   "cell_type": "code",
   "execution_count": 1,
   "id": "ff4cb020",
   "metadata": {},
   "outputs": [
    {
     "data": {
      "text/plain": [
       "<sqlite3.Connection at 0xdd3fad0940>"
      ]
     },
     "execution_count": 1,
     "metadata": {},
     "output_type": "execute_result"
    }
   ],
   "source": [
    "import csv, sqlite3, os \n",
    "import pandas as pd\n",
    "\n",
    "con = sqlite3.connect(\"Exercise.db\")\n",
    "%load_ext sql\n",
    "%sql sqlite:///Exercise.db\n",
    "con\n",
    "    "
   ]
  },
  {
   "cell_type": "code",
   "execution_count": 2,
   "id": "13b47c76",
   "metadata": {},
   "outputs": [
    {
     "name": "stdout",
     "output_type": "stream",
     "text": [
      " * sqlite:///Exercise.db\n",
      "Done.\n"
     ]
    },
    {
     "data": {
      "text/html": [
       "<table>\n",
       "    <tr>\n",
       "        <th>name</th>\n",
       "    </tr>\n",
       "    <tr>\n",
       "        <td>chicago_census_data</td>\n",
       "    </tr>\n",
       "    <tr>\n",
       "        <td>chicago_crime_data</td>\n",
       "    </tr>\n",
       "    <tr>\n",
       "        <td>chicago_pub_school</td>\n",
       "    </tr>\n",
       "    <tr>\n",
       "        <td>Persons</td>\n",
       "    </tr>\n",
       "    <tr>\n",
       "        <td>Pes</td>\n",
       "    </tr>\n",
       "</table>"
      ],
      "text/plain": [
       "[('chicago_census_data',),\n",
       " ('chicago_crime_data',),\n",
       " ('chicago_pub_school',),\n",
       " ('Persons',),\n",
       " ('Pes',)]"
      ]
     },
     "execution_count": 2,
     "metadata": {},
     "output_type": "execute_result"
    }
   ],
   "source": [
    "%sql SELECT name  FROM  sqlite_schema WHERE  type ='table'"
   ]
  },
  {
   "cell_type": "code",
   "execution_count": 3,
   "id": "4a103100",
   "metadata": {},
   "outputs": [
    {
     "name": "stdout",
     "output_type": "stream",
     "text": [
      " * sqlite:///Exercise.db\n",
      "(sqlite3.OperationalError) table Persons already exists\n",
      "[SQL: create table Persons( user_id int(11), user_name varchar(255), email varchar(255) );]\n",
      "(Background on this error at: http://sqlalche.me/e/e3q8)\n"
     ]
    }
   ],
   "source": [
    "%sql create table Persons(\\\n",
    "    user_id int(11),\\\n",
    "    user_name varchar(255),\\\n",
    "    email varchar(255)\\\n",
    ");\n",
    "    "
   ]
  },
  {
   "cell_type": "code",
   "execution_count": 12,
   "id": "4e4aa56a",
   "metadata": {},
   "outputs": [
    {
     "name": "stdout",
     "output_type": "stream",
     "text": [
      " * sqlite:///Exercise.db\n",
      "5 rows affected.\n"
     ]
    },
    {
     "data": {
      "text/plain": [
       "[]"
      ]
     },
     "execution_count": 12,
     "metadata": {},
     "output_type": "execute_result"
    }
   ],
   "source": [
    "%sql insert into Persons (user_id, user_name, email) values (\\\n",
    "    '1', 'ruoman', 'ejndsk@ksjd.ru'),\\\n",
    "    ('1', 'ruo', 'ejndsk@ksjd.ru'),\\\n",
    "    ('1', 'ruo', 'ejndsk@ksjd.ru'),\\\n",
    "    ('2', 'ruo', 'ejndsk@ksjd.ru'),\\\n",
    "    ('2', 'ruoman', 'ejndsk@ksjd.ru')\n"
   ]
  },
  {
   "cell_type": "code",
   "execution_count": 9,
   "id": "b887adec",
   "metadata": {},
   "outputs": [
    {
     "name": "stdout",
     "output_type": "stream",
     "text": [
      " * sqlite:///Exercise.db\n",
      "Done.\n"
     ]
    },
    {
     "data": {
      "text/html": [
       "<table>\n",
       "    <tr>\n",
       "        <th>user_id</th>\n",
       "        <th>user_name</th>\n",
       "        <th>email</th>\n",
       "    </tr>\n",
       "    <tr>\n",
       "        <td>1</td>\n",
       "        <td>ruoman</td>\n",
       "        <td>ejndsk@ksjd.ru</td>\n",
       "    </tr>\n",
       "    <tr>\n",
       "        <td>1</td>\n",
       "        <td>ruo</td>\n",
       "        <td>ejndsk@ksjd.ru</td>\n",
       "    </tr>\n",
       "    <tr>\n",
       "        <td>1</td>\n",
       "        <td>ruo</td>\n",
       "        <td>ejndsk@ksjd.ru</td>\n",
       "    </tr>\n",
       "    <tr>\n",
       "        <td>2</td>\n",
       "        <td>ruo</td>\n",
       "        <td>ejndsk@ksjd.ru</td>\n",
       "    </tr>\n",
       "    <tr>\n",
       "        <td>2</td>\n",
       "        <td>ruoman</td>\n",
       "        <td>ejndsk@ksjd.ru</td>\n",
       "    </tr>\n",
       "</table>"
      ],
      "text/plain": [
       "[(1, 'ruoman', 'ejndsk@ksjd.ru'),\n",
       " (1, 'ruo', 'ejndsk@ksjd.ru'),\n",
       " (1, 'ruo', 'ejndsk@ksjd.ru'),\n",
       " (2, 'ruo', 'ejndsk@ksjd.ru'),\n",
       " (2, 'ruoman', 'ejndsk@ksjd.ru')]"
      ]
     },
     "execution_count": 9,
     "metadata": {},
     "output_type": "execute_result"
    }
   ],
   "source": [
    "%sql select *  from Persons  "
   ]
  },
  {
   "cell_type": "code",
   "execution_count": 6,
   "id": "a4cb3649",
   "metadata": {},
   "outputs": [
    {
     "name": "stdout",
     "output_type": "stream",
     "text": [
      " * sqlite:///Exercise.db\n",
      "13 rows affected.\n"
     ]
    },
    {
     "data": {
      "text/plain": [
       "[]"
      ]
     },
     "execution_count": 6,
     "metadata": {},
     "output_type": "execute_result"
    }
   ],
   "source": [
    " \n",
    "%sql delete from Persons where user_id in (select user_id from (select *, \\\n",
    "        ROW_NUMBER() OVER(PARTITION BY \\\n",
    "        user_name order by user_id) as count from Persons) where count>0);\n"
   ]
  },
  {
   "cell_type": "code",
   "execution_count": 10,
   "id": "a02870f5",
   "metadata": {},
   "outputs": [
    {
     "name": "stdout",
     "output_type": "stream",
     "text": [
      " * sqlite:///Exercise.db\n",
      "Done.\n"
     ]
    },
    {
     "data": {
      "text/html": [
       "<table>\n",
       "    <tr>\n",
       "        <th>user_id</th>\n",
       "        <th>user_name</th>\n",
       "        <th>count(*)</th>\n",
       "    </tr>\n",
       "    <tr>\n",
       "        <td>1</td>\n",
       "        <td>ruo</td>\n",
       "        <td>3</td>\n",
       "    </tr>\n",
       "    <tr>\n",
       "        <td>1</td>\n",
       "        <td>ruoman</td>\n",
       "        <td>2</td>\n",
       "    </tr>\n",
       "</table>"
      ],
      "text/plain": [
       "[(1, 'ruo', 3), (1, 'ruoman', 2)]"
      ]
     },
     "execution_count": 10,
     "metadata": {},
     "output_type": "execute_result"
    }
   ],
   "source": [
    "  \n",
    "%sql select user_id, user_name, count(*) from Persons group by user_name having count(*)>1\n",
    " "
   ]
  },
  {
   "cell_type": "code",
   "execution_count": 11,
   "id": "ecf831bf",
   "metadata": {},
   "outputs": [
    {
     "name": "stdout",
     "output_type": "stream",
     "text": [
      " * sqlite:///Exercise.db\n",
      "3 rows affected.\n"
     ]
    },
    {
     "data": {
      "text/plain": [
       "[]"
      ]
     },
     "execution_count": 11,
     "metadata": {},
     "output_type": "execute_result"
    }
   ],
   "source": [
    "%sql delete from Persons where user_id not in \\\n",
    "(select max(user_id) from Persons group by user_name)"
   ]
  },
  {
   "cell_type": "code",
   "execution_count": 13,
   "id": "1beb70dd",
   "metadata": {},
   "outputs": [
    {
     "name": "stdout",
     "output_type": "stream",
     "text": [
      " * sqlite:///Exercise.db\n",
      "(sqlite3.OperationalError) table Pes already exists\n",
      "[SQL: create table Pes( user_id int(11), user_name varchar(255), email varchar(255) );]\n",
      "(Background on this error at: http://sqlalche.me/e/e3q8)\n"
     ]
    }
   ],
   "source": [
    "%sql create table Pes(\\\n",
    "    user_id int(11),\\\n",
    "    user_name varchar(255),\\\n",
    "    email varchar(255)\\\n",
    ");"
   ]
  },
  {
   "cell_type": "code",
   "execution_count": 14,
   "id": "95078804",
   "metadata": {},
   "outputs": [
    {
     "name": "stdout",
     "output_type": "stream",
     "text": [
      " * sqlite:///Exercise.db\n",
      "3 rows affected.\n"
     ]
    },
    {
     "data": {
      "text/plain": [
       "[]"
      ]
     },
     "execution_count": 14,
     "metadata": {},
     "output_type": "execute_result"
    }
   ],
   "source": [
    "%sql insert into Pes(user_id, user_name, email) values (\\\n",
    "    '1', 'book', 'ejndsk@ksjd.ru'),\\\n",
    "    ('1', 'pencil', 'ejndsk@ksjd.ru'),\\\n",
    "    ('1', 'pencil', 'ejndsk@ksjd.ru')"
   ]
  },
  {
   "cell_type": "code",
   "execution_count": 15,
   "id": "03ab3add",
   "metadata": {},
   "outputs": [
    {
     "name": "stdout",
     "output_type": "stream",
     "text": [
      " * sqlite:///Exercise.db\n",
      "Done.\n"
     ]
    },
    {
     "data": {
      "text/html": [
       "<table>\n",
       "    <tr>\n",
       "        <th>user_id</th>\n",
       "        <th>user_name</th>\n",
       "        <th>email</th>\n",
       "    </tr>\n",
       "    <tr>\n",
       "        <td>1</td>\n",
       "        <td>book</td>\n",
       "        <td>ejndsk@ksjd.ru</td>\n",
       "    </tr>\n",
       "    <tr>\n",
       "        <td>1</td>\n",
       "        <td>pencil</td>\n",
       "        <td>ejndsk@ksjd.ru</td>\n",
       "    </tr>\n",
       "    <tr>\n",
       "        <td>1</td>\n",
       "        <td>pencil</td>\n",
       "        <td>ejndsk@ksjd.ru</td>\n",
       "    </tr>\n",
       "    <tr>\n",
       "        <td>1</td>\n",
       "        <td>book</td>\n",
       "        <td>ejndsk@ksjd.ru</td>\n",
       "    </tr>\n",
       "    <tr>\n",
       "        <td>1</td>\n",
       "        <td>pencil</td>\n",
       "        <td>ejndsk@ksjd.ru</td>\n",
       "    </tr>\n",
       "    <tr>\n",
       "        <td>1</td>\n",
       "        <td>pencil</td>\n",
       "        <td>ejndsk@ksjd.ru</td>\n",
       "    </tr>\n",
       "</table>"
      ],
      "text/plain": [
       "[(1, 'book', 'ejndsk@ksjd.ru'),\n",
       " (1, 'pencil', 'ejndsk@ksjd.ru'),\n",
       " (1, 'pencil', 'ejndsk@ksjd.ru'),\n",
       " (1, 'book', 'ejndsk@ksjd.ru'),\n",
       " (1, 'pencil', 'ejndsk@ksjd.ru'),\n",
       " (1, 'pencil', 'ejndsk@ksjd.ru')]"
      ]
     },
     "execution_count": 15,
     "metadata": {},
     "output_type": "execute_result"
    }
   ],
   "source": [
    "%sql select * from Pes"
   ]
  },
  {
   "cell_type": "code",
   "execution_count": 19,
   "id": "93c8b359",
   "metadata": {},
   "outputs": [
    {
     "name": "stdout",
     "output_type": "stream",
     "text": [
      " * sqlite:///Exercise.db\n",
      "Done.\n"
     ]
    },
    {
     "data": {
      "text/html": [
       "<table>\n",
       "    <tr>\n",
       "        <th>user_id</th>\n",
       "        <th>user_name</th>\n",
       "        <th>email</th>\n",
       "        <th>New_Data</th>\n",
       "    </tr>\n",
       "    <tr>\n",
       "        <td>1</td>\n",
       "        <td>book</td>\n",
       "        <td>ejndsk@ksjd.ru</td>\n",
       "        <td>No</td>\n",
       "    </tr>\n",
       "    <tr>\n",
       "        <td>1</td>\n",
       "        <td>pencil</td>\n",
       "        <td>ejndsk@ksjd.ru</td>\n",
       "        <td>Yes</td>\n",
       "    </tr>\n",
       "    <tr>\n",
       "        <td>1</td>\n",
       "        <td>pencil</td>\n",
       "        <td>ejndsk@ksjd.ru</td>\n",
       "        <td>Yes</td>\n",
       "    </tr>\n",
       "    <tr>\n",
       "        <td>1</td>\n",
       "        <td>book</td>\n",
       "        <td>ejndsk@ksjd.ru</td>\n",
       "        <td>No</td>\n",
       "    </tr>\n",
       "    <tr>\n",
       "        <td>1</td>\n",
       "        <td>pencil</td>\n",
       "        <td>ejndsk@ksjd.ru</td>\n",
       "        <td>Yes</td>\n",
       "    </tr>\n",
       "    <tr>\n",
       "        <td>1</td>\n",
       "        <td>pencil</td>\n",
       "        <td>ejndsk@ksjd.ru</td>\n",
       "        <td>Yes</td>\n",
       "    </tr>\n",
       "</table>"
      ],
      "text/plain": [
       "[(1, 'book', 'ejndsk@ksjd.ru', 'No'),\n",
       " (1, 'pencil', 'ejndsk@ksjd.ru', 'Yes'),\n",
       " (1, 'pencil', 'ejndsk@ksjd.ru', 'Yes'),\n",
       " (1, 'book', 'ejndsk@ksjd.ru', 'No'),\n",
       " (1, 'pencil', 'ejndsk@ksjd.ru', 'Yes'),\n",
       " (1, 'pencil', 'ejndsk@ksjd.ru', 'Yes')]"
      ]
     },
     "execution_count": 19,
     "metadata": {},
     "output_type": "execute_result"
    }
   ],
   "source": [
    "a = %sql SELECT user_id, user_name,\\\n",
    "       email,\\\n",
    "       CASE WHEN user_name = 'book' THEN 'No'\\\n",
    "            WHEN user_name = 'pencil' THEN 'Yes' \\\n",
    "            else 'Other' END AS   New_Data  FROM Pes;\n",
    "a"
   ]
  },
  {
   "cell_type": "code",
   "execution_count": 17,
   "id": "37d2b257",
   "metadata": {},
   "outputs": [
    {
     "name": "stdout",
     "output_type": "stream",
     "text": [
      " * sqlite:///Exercise.db\n",
      "Done.\n"
     ]
    },
    {
     "data": {
      "text/html": [
       "<table>\n",
       "    <tr>\n",
       "        <th>user_name</th>\n",
       "        <th>New_Data</th>\n",
       "    </tr>\n",
       "    <tr>\n",
       "        <td>pencil</td>\n",
       "        <td>Yes</td>\n",
       "    </tr>\n",
       "    <tr>\n",
       "        <td>pencil</td>\n",
       "        <td>Yes</td>\n",
       "    </tr>\n",
       "    <tr>\n",
       "        <td>pencil</td>\n",
       "        <td>Yes</td>\n",
       "    </tr>\n",
       "    <tr>\n",
       "        <td>pencil</td>\n",
       "        <td>Yes</td>\n",
       "    </tr>\n",
       "</table>"
      ],
      "text/plain": [
       "[('pencil', 'Yes'), ('pencil', 'Yes'), ('pencil', 'Yes'), ('pencil', 'Yes')]"
      ]
     },
     "execution_count": 17,
     "metadata": {},
     "output_type": "execute_result"
    }
   ],
   "source": [
    "%sql SELECT user_name,\\\n",
    "       CASE user_name \\\n",
    "         WHEN 'book' THEN 'No'\\\n",
    "         WHEN 'pencil' THEN 'Yes' \\\n",
    "         ELSE 'Other' \\\n",
    "       END AS New_Data \\\n",
    "FROM Pes\\\n",
    "WHERE New_Data = 'Yes';"
   ]
  },
  {
   "cell_type": "code",
   "execution_count": null,
   "id": "4ea323a3",
   "metadata": {},
   "outputs": [],
   "source": []
  }
 ],
 "metadata": {
  "kernelspec": {
   "display_name": "Python 3 (ipykernel)",
   "language": "python",
   "name": "python3"
  },
  "language_info": {
   "codemirror_mode": {
    "name": "ipython",
    "version": 3
   },
   "file_extension": ".py",
   "mimetype": "text/x-python",
   "name": "python",
   "nbconvert_exporter": "python",
   "pygments_lexer": "ipython3",
   "version": "3.10.6"
  }
 },
 "nbformat": 4,
 "nbformat_minor": 5
}
