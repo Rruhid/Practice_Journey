{
 "cells": [
  {
   "cell_type": "code",
   "execution_count": null,
   "id": "4e3f576c",
   "metadata": {},
   "outputs": [
    {
     "name": "stdout",
     "output_type": "stream",
     "text": [
      "            Date        Open        High         Low       Close     Volume  \\\n",
      "0     1980-12-12    0.100039    0.100474    0.100039    0.100039  469033600   \n",
      "1     1980-12-15    0.095255    0.095255    0.094820    0.094820  175884800   \n",
      "2     1980-12-16    0.088296    0.088296    0.087861    0.087861  105728000   \n",
      "3     1980-12-17    0.090035    0.090470    0.090035    0.090035   86441600   \n",
      "4     1980-12-18    0.092646    0.093081    0.092646    0.092646   73449600   \n",
      "...          ...         ...         ...         ...         ...        ...   \n",
      "10516 2022-08-29  161.149994  162.899994  159.820007  161.380005   73314000   \n",
      "10517 2022-08-30  162.130005  162.559998  157.720001  158.910004   77906200   \n",
      "10518 2022-08-31  160.309998  160.580002  157.139999  157.220001   87991100   \n",
      "10519 2022-09-01  156.639999  158.419998  154.669998  157.960007   74229900   \n",
      "10520 2022-09-02  159.750000  160.360001  154.970001  155.809998   76905200   \n",
      "\n",
      "       Dividends  Stock Splits  \n",
      "0            0.0           0.0  \n",
      "1            0.0           0.0  \n",
      "2            0.0           0.0  \n",
      "3            0.0           0.0  \n",
      "4            0.0           0.0  \n",
      "...          ...           ...  \n",
      "10516        0.0           0.0  \n",
      "10517        0.0           0.0  \n",
      "10518        0.0           0.0  \n",
      "10519        0.0           0.0  \n",
      "10520        0.0           0.0  \n",
      "\n",
      "[10521 rows x 8 columns]\n"
     ]
    }
   ],
   "source": [
    "import requests  \n",
    " \n",
    "import yfinance as yf\n",
    "import pandas as pd\n",
    "from matplotlib import pyplot\n",
    " \n",
    "apple = yf.Ticker(\"AAPL\")\n",
    "#apple_info = apple.info\n",
    "apple_share_price_data = apple.history(period=\"max\")\n",
    "ap_head = apple_share_price_data\n",
    "ap_head.reset_index(inplace=True)\n",
    "ap_head.plot(x=\"Date\", y=\"Open\")\n",
    " \n",
    "print(ap_head)\n",
    " \n",
    " \n",
    " \n",
    " \n",
    " \n",
    "amd = yf.Ticker('AMD')\n",
    "amd_info = amd.info\n",
    "print(amd_info['country'])\n",
    "print(amd_info['sector'])\n",
    " \n",
    "amd_share_price_data = amd.history(period='max')\n",
    "amd_share_price_data.head()\n",
    "apple.info['forwardPE']\n",
    "apple\n",
    "\n"
   ]
  },
  {
   "cell_type": "code",
   "execution_count": null,
   "id": "87bf1d07",
   "metadata": {},
   "outputs": [],
   "source": [
    " \n",
    "  "
   ]
  },
  {
   "cell_type": "code",
   "execution_count": null,
   "id": "1503eaf7",
   "metadata": {},
   "outputs": [],
   "source": []
  },
  {
   "cell_type": "code",
   "execution_count": null,
   "id": "fcf5759f",
   "metadata": {},
   "outputs": [],
   "source": []
  }
 ],
 "metadata": {
  "kernelspec": {
   "display_name": "Python 3 (ipykernel)",
   "language": "python",
   "name": "python3"
  },
  "language_info": {
   "codemirror_mode": {
    "name": "ipython",
    "version": 3
   },
   "file_extension": ".py",
   "mimetype": "text/x-python",
   "name": "python",
   "nbconvert_exporter": "python",
   "pygments_lexer": "ipython3",
   "version": "3.10.6"
  }
 },
 "nbformat": 4,
 "nbformat_minor": 5
}
